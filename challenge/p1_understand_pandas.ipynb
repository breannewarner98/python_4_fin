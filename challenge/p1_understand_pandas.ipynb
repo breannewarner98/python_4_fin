{
 "cells": [
  {
   "cell_type": "markdown",
   "metadata": {},
   "source": [
    "# Class Project"
   ]
  },
  {
   "cell_type": "markdown",
   "metadata": {},
   "source": [
    "## 10/31 Pandas 1"
   ]
  },
  {
   "cell_type": "markdown",
   "metadata": {},
   "source": [
    " <img src=\"media/climate.jpg\" width=\"600\">"
   ]
  },
  {
   "cell_type": "markdown",
   "metadata": {},
   "source": [
    "Let's practice pandas using the DataFrame from the Case"
   ]
  },
  {
   "cell_type": "markdown",
   "metadata": {},
   "source": [
    "## Instructions"
   ]
  },
  {
   "cell_type": "markdown",
   "metadata": {},
   "source": [
    "- Import \"2_boe_noaa_data.csv\" (or the name you are currently using for it, just make sure it contains no blank spaces), name it battle.\n",
    "- How many columns and rows are in the dataset?\n",
    "- Print the first 100 values of the dataset\n",
    "- Describe with summary statistics the information contained in battle:\n",
    "    - What is the minimum value of DAMAGE_PROPERTY?\n",
    "\n",
    "- How many nulls are there per each column?\n",
    "- What are the data types in the dataset?\n",
    "- What is the EVENT_TYPE of the 134th observation listed?\n",
    "- Create a new dataframe called no_state where you include all columns except 'STATE'\n",
    "\n",
    "**CHALLENGE!!**\n",
    "\n",
    "\n",
    "Create a loop that:\n",
    "- Creates a list where the generated values are = STATE_FIPS x CZ_FIPS\t\n",
    "- Call this new list \"PRED_THING\"\n",
    "- Add this list as a new column to battle dataset\n",
    "    \n",
    "    "
   ]
  },
  {
   "cell_type": "code",
   "execution_count": null,
   "metadata": {},
   "outputs": [],
   "source": []
  }
 ],
 "metadata": {
  "kernelspec": {
   "display_name": "Python 3",
   "language": "python",
   "name": "python3"
  },
  "language_info": {
   "codemirror_mode": {
    "name": "ipython",
    "version": 3
   },
   "file_extension": ".py",
   "mimetype": "text/x-python",
   "name": "python",
   "nbconvert_exporter": "python",
   "pygments_lexer": "ipython3",
   "version": "3.6.8"
  }
 },
 "nbformat": 4,
 "nbformat_minor": 2
}
