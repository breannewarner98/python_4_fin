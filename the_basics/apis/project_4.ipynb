{
 "cells": [
  {
   "cell_type": "markdown",
   "metadata": {},
   "source": [
    "# Project 4\n",
    "\n",
    "10/17"
   ]
  },
  {
   "cell_type": "markdown",
   "metadata": {},
   "source": [
    "# Analyzing a company using API's"
   ]
  },
  {
   "cell_type": "markdown",
   "metadata": {},
   "source": [
    "<img src=\"media/proj.jpg\" width=\"600\">"
   ]
  },
  {
   "cell_type": "markdown",
   "metadata": {},
   "source": [
    "## Instructions \n",
    "\n",
    "- Pick a traded Company\n",
    "\n",
    "Using **yahoofinancials** calculate the following:\n",
    "\n",
    "### Financial Leverage\n",
    "\n",
    "**Total Debt Ratio**\n",
    "- *Total Liabilities*/*Total Assets*\n",
    "\n",
    "**Total Debt to Equity Ratio**\n",
    "- *Total Liabilities*/*Total Shareholder's Equity*\n",
    "\n",
    "- Implement a loop that prints *Net Income* from the four quarterly Income Statements\n",
    "- Calculate the change in *Common Stock* from the last quarter to the first quarter\n",
    "\n",
    "\n"
   ]
  }
 ],
 "metadata": {
  "kernelspec": {
   "display_name": "Python 3",
   "language": "python",
   "name": "python3"
  },
  "language_info": {
   "codemirror_mode": {
    "name": "ipython",
    "version": 3
   },
   "file_extension": ".py",
   "mimetype": "text/x-python",
   "name": "python",
   "nbconvert_exporter": "python",
   "pygments_lexer": "ipython3",
   "version": "3.6.8"
  }
 },
 "nbformat": 4,
 "nbformat_minor": 2
}
