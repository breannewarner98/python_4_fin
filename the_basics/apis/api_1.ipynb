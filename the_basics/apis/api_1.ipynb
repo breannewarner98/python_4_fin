{
 "cells": [
  {
   "cell_type": "markdown",
   "metadata": {},
   "source": [
    "# Yahoo-Finance\n",
    "\n",
    "https://github.com/JECSand/yahoofinancials"
   ]
  },
  {
   "cell_type": "markdown",
   "metadata": {},
   "source": [
    "<img src=\"media/yahoo.jpeg\" width=\"600\">"
   ]
  },
  {
   "cell_type": "markdown",
   "metadata": {},
   "source": [
    "# yahoofinancials \n",
    "\n",
    "A powerful financial data module used for pulling fundamental and technical stock data from Yahoo Finance"
   ]
  },
  {
   "cell_type": "markdown",
   "metadata": {},
   "source": [
    "## Install it"
   ]
  },
  {
   "cell_type": "markdown",
   "metadata": {},
   "source": [
    "conda install yahoofinancials"
   ]
  },
  {
   "cell_type": "markdown",
   "metadata": {},
   "source": [
    "## Module Methods\n",
    "\n",
    "- The financial data from all methods is returned as JSON.\n",
    "- You can run multiple symbols at once using an inputted array or run an individual symbol using an inputted string.\n",
    "- YahooFinancials works with Python 2.7, 3.3, 3.4, 3.5, 3.6, and 3.7 and runs on all operating systems. (Windows, Mac, Linux)."
   ]
  },
  {
   "cell_type": "markdown",
   "metadata": {},
   "source": [
    "## Featured Methods\n",
    "\n",
    "- **get_financial_stmts(frequency, statement_type, reformat=True)**\n",
    "    - frequency can be either 'annual' or 'quarterly'.\n",
    "    - statement_type can be 'income', 'balance', 'cash' or a list of several.\n",
    "    - reformat optional value defaulted to true. Enter False for unprocessed raw data from Yahoo Finance.\n",
    "- **get_stock_price_data(reformat=True)**\n",
    "    - reformat optional value defaulted to true. Enter False for unprocessed raw data from Yahoo Finance.\n",
    "- **get_stock_earnings_data(reformat=True)**\n",
    "    - reformat optional value defaulted to true. Enter False for unprocessed raw data from Yahoo Finance.\n",
    "- **get_summary_data(reformat=True)**\n",
    "    - Returns financial summary data for cryptocurrencies, stocks, currencies, ETFs, mutual funds, U.S. Treasuries, commodity futures, and indexes.\n",
    "    - reformat optional value defaulted to true. Enter False for unprocessed raw data from Yahoo Finance.\n",
    "- **get_stock_quote_type_data()**\n",
    "- **get_historical_price_data(start_date, end_date, time_interval)**\n",
    "    - This method will pull historical pricing data for stocks, currencies, ETFs, mutual funds, U.S. Treasuries, cryptocurrencies, commodities, and indexes.\n",
    "    - start_date should be entered in the 'YYYY-MM-DD' format and is the first day that data will be pulled for.\n",
    "    - end_date should be entered in the 'YYYY-MM-DD' format and is the last day that data will be pulled for.\n",
    "    - time_interval can be either 'daily', 'weekly', or 'monthly'. This variable determines the time period interval for your pull.\n",
    "    - Data response includes relevant pricing event data such as dividends and stock splits.\n",
    "- **get_num_shares_outstanding(price_type='current')**\n",
    "    - price_type can also be set to 'average' to calculate the shares outstanding with the daily average price."
   ]
  },
  {
   "cell_type": "markdown",
   "metadata": {},
   "source": [
    "## Additional Module Methods\n",
    "\n",
    "- get_interest_expense()\n",
    "- get_operating_income()\n",
    "- get_total_operating_expense()\n",
    "- get_total_revenue()\n",
    "- get_cost_of_revenue()\n",
    "- get_income_before_tax()\n",
    "- get_income_tax_expense()\n",
    "- get_gross_profit()\n",
    "- get_net_income_from_continuing_ops()\n",
    "- get_research_and_development()\n",
    "- get_current_price()\n",
    "- get_current_change()\n",
    "- get_current_percent_change()\n",
    "- get_current_volume()\n",
    "- get_prev_close_price()\n",
    "- get_open_price()\n",
    "- get_ten_day_avg_daily_volume()\n",
    "- get_three_month_avg_daily_volume()\n",
    "- get_stock_exchange()\n",
    "- get_market_cap()\n",
    "- get_daily_low()\n",
    "- get_daily_high()\n",
    "- get_currency()\n",
    "- get_yearly_high()\n",
    "- get_yearly_low()\n",
    "- get_dividend_yield()\n",
    "- get_annual_avg_div_yield()\n",
    "- get_five_yr_avg_div_yield()\n",
    "- get_dividend_rate()\n",
    "- get_annual_avg_div_rate()\n",
    "- get_50day_moving_avg()\n",
    "- get_200day_moving_avg()\n",
    "- get_beta()\n",
    "- get_payout_ratio()\n",
    "- get_pe_ratio()\n",
    "- get_price_to_sales()\n",
    "- get_exdividend_date()\n",
    "- get_book_value()\n",
    "- get_ebit()\n",
    "- get_net_income()\n",
    "- get_earnings_per_share()\n",
    "- get_key_statistics_data()"
   ]
  },
  {
   "cell_type": "code",
   "execution_count": 1,
   "metadata": {},
   "outputs": [],
   "source": [
    "from yahoofinancials import YahooFinancials"
   ]
  },
  {
   "cell_type": "code",
   "execution_count": 2,
   "metadata": {},
   "outputs": [
    {
     "name": "stderr",
     "output_type": "stream",
     "text": [
      "/usr/lib/python3.6/importlib/_bootstrap.py:219: RuntimeWarning: numpy.dtype size changed, may indicate binary incompatibility. Expected 96, got 88\n",
      "  return f(*args, **kwds)\n",
      "/usr/lib/python3.6/importlib/_bootstrap.py:219: RuntimeWarning: numpy.dtype size changed, may indicate binary incompatibility. Expected 96, got 88\n",
      "  return f(*args, **kwds)\n"
     ]
    }
   ],
   "source": [
    "import pandas as pd\n",
    "from pandas.io.json import json_normalize\n",
    "import seaborn as sns"
   ]
  },
  {
   "cell_type": "code",
   "execution_count": 3,
   "metadata": {},
   "outputs": [
    {
     "data": {
      "text/plain": [
       "<yahoofinancials.YahooFinancials at 0x7f1a6fe6f518>"
      ]
     },
     "execution_count": 3,
     "metadata": {},
     "output_type": "execute_result"
    }
   ],
   "source": [
    "ticker = 'AAPL'\n",
    "yahoo_financials = YahooFinancials(ticker)\n",
    "\n",
    "yahoo_financials"
   ]
  },
  {
   "cell_type": "markdown",
   "metadata": {},
   "source": [
    "## Extracting Company Information\n",
    "I extracted a lot of material to work with!! This might take a couple of minutes to load."
   ]
  },
  {
   "cell_type": "code",
   "execution_count": 5,
   "metadata": {},
   "outputs": [],
   "source": [
    "balance_sheet_data_qt = yahoo_financials.get_financial_stmts('quarterly', 'balance')\n",
    "income_statement_data_qt = yahoo_financials.get_financial_stmts('quarterly', 'income')\n",
    "all_statement_data_qt =  yahoo_financials.get_financial_stmts('quarterly', ['income', 'cash', 'balance'])\n",
    "apple_earnings_data = yahoo_financials.get_stock_earnings_data()\n",
    "apple_net_income = yahoo_financials.get_net_income()\n",
    "historical_stock_prices = yahoo_financials.get_historical_price_data('2008-09-15', '2018-09-15', 'weekly')"
   ]
  },
  {
   "cell_type": "markdown",
   "metadata": {},
   "source": [
    "# 1- Analyzing Financial Statements"
   ]
  },
  {
   "cell_type": "code",
   "execution_count": 6,
   "metadata": {},
   "outputs": [
    {
     "data": {
      "text/plain": [
       "{'incomeStatementHistoryQuarterly': {'AAPL': [{'2019-06-29': {'researchDevelopment': 4257000000,\n",
       "     'effectOfAccountingCharges': None,\n",
       "     'incomeBeforeTax': 11911000000,\n",
       "     'minorityInterest': None,\n",
       "     'netIncome': 10044000000,\n",
       "     'sellingGeneralAdministrative': 4426000000,\n",
       "     'grossProfit': 20227000000,\n",
       "     'ebit': 11544000000,\n",
       "     'operatingIncome': 11544000000,\n",
       "     'otherOperatingExpenses': None,\n",
       "     'interestExpense': -866000000,\n",
       "     'extraordinaryItems': None,\n",
       "     'nonRecurring': None,\n",
       "     'otherItems': None,\n",
       "     'incomeTaxExpense': 1867000000,\n",
       "     'totalRevenue': 53809000000,\n",
       "     'totalOperatingExpenses': 42265000000,\n",
       "     'costOfRevenue': 33582000000,\n",
       "     'totalOtherIncomeExpenseNet': 367000000,\n",
       "     'discontinuedOperations': None,\n",
       "     'netIncomeFromContinuingOps': 10044000000,\n",
       "     'netIncomeApplicableToCommonShares': 10044000000}},\n",
       "   {'2019-03-30': {'researchDevelopment': 3948000000,\n",
       "     'effectOfAccountingCharges': None,\n",
       "     'incomeBeforeTax': 13793000000,\n",
       "     'minorityInterest': None,\n",
       "     'netIncome': 11561000000,\n",
       "     'sellingGeneralAdministrative': 4458000000,\n",
       "     'grossProfit': 21821000000,\n",
       "     'ebit': 13415000000,\n",
       "     'operatingIncome': 13415000000,\n",
       "     'otherOperatingExpenses': None,\n",
       "     'interestExpense': -1010000000,\n",
       "     'extraordinaryItems': None,\n",
       "     'nonRecurring': None,\n",
       "     'otherItems': None,\n",
       "     'incomeTaxExpense': 2232000000,\n",
       "     'totalRevenue': 58015000000,\n",
       "     'totalOperatingExpenses': 44600000000,\n",
       "     'costOfRevenue': 36194000000,\n",
       "     'totalOtherIncomeExpenseNet': 378000000,\n",
       "     'discontinuedOperations': None,\n",
       "     'netIncomeFromContinuingOps': 11561000000,\n",
       "     'netIncomeApplicableToCommonShares': 11561000000}},\n",
       "   {'2018-12-29': {'researchDevelopment': 3902000000,\n",
       "     'effectOfAccountingCharges': None,\n",
       "     'incomeBeforeTax': 23906000000,\n",
       "     'minorityInterest': None,\n",
       "     'netIncome': 19965000000,\n",
       "     'sellingGeneralAdministrative': 4783000000,\n",
       "     'grossProfit': 32031000000,\n",
       "     'ebit': 23346000000,\n",
       "     'operatingIncome': 23346000000,\n",
       "     'otherOperatingExpenses': None,\n",
       "     'interestExpense': -890000000,\n",
       "     'extraordinaryItems': None,\n",
       "     'nonRecurring': None,\n",
       "     'otherItems': None,\n",
       "     'incomeTaxExpense': 3941000000,\n",
       "     'totalRevenue': 84310000000,\n",
       "     'totalOperatingExpenses': 60964000000,\n",
       "     'costOfRevenue': 52279000000,\n",
       "     'totalOtherIncomeExpenseNet': 560000000,\n",
       "     'discontinuedOperations': None,\n",
       "     'netIncomeFromContinuingOps': 19965000000,\n",
       "     'netIncomeApplicableToCommonShares': 19965000000}},\n",
       "   {'2018-09-29': {'researchDevelopment': 3750000000,\n",
       "     'effectOfAccountingCharges': None,\n",
       "     'incomeBeforeTax': 16421000000,\n",
       "     'minorityInterest': None,\n",
       "     'netIncome': 14125000000,\n",
       "     'sellingGeneralAdministrative': 4216000000,\n",
       "     'grossProfit': 24084000000,\n",
       "     'ebit': 16118000000,\n",
       "     'operatingIncome': 16118000000,\n",
       "     'otherOperatingExpenses': None,\n",
       "     'interestExpense': -868000000,\n",
       "     'extraordinaryItems': None,\n",
       "     'nonRecurring': None,\n",
       "     'otherItems': None,\n",
       "     'incomeTaxExpense': 2296000000,\n",
       "     'totalRevenue': 62900000000,\n",
       "     'totalOperatingExpenses': 46782000000,\n",
       "     'costOfRevenue': 38816000000,\n",
       "     'totalOtherIncomeExpenseNet': 303000000,\n",
       "     'discontinuedOperations': None,\n",
       "     'netIncomeFromContinuingOps': 14125000000,\n",
       "     'netIncomeApplicableToCommonShares': 14125000000}}]},\n",
       " 'cashflowStatementHistoryQuarterly': {'AAPL': [{'2019-06-29': {'investments': 30120000000,\n",
       "     'changeToLiabilities': -16000000,\n",
       "     'totalCashflowsFromInvestingActivities': 27502000000,\n",
       "     'netBorrowings': -5026000000,\n",
       "     'totalCashFromFinancingActivities': -26804000000,\n",
       "     'changeToOperatingActivities': -5203000000,\n",
       "     'issuanceOfStock': 1000000,\n",
       "     'netIncome': 10044000000,\n",
       "     'changeInCash': 12334000000,\n",
       "     'repurchaseOfStock': -18154000000,\n",
       "     'totalCashFromOperatingActivities': 11636000000,\n",
       "     'depreciation': 2933000000,\n",
       "     'otherCashflowsFromInvestingActivities': -298000000,\n",
       "     'dividendsPaid': -3629000000,\n",
       "     'changeToInventory': 1502000000,\n",
       "     'changeToAccountReceivables': 919000000,\n",
       "     'otherCashflowsFromFinancingActivities': 4000000,\n",
       "     'changeToNetincome': 1457000000,\n",
       "     'capitalExpenditures': -2000000000}},\n",
       "   {'2019-03-30': {'investments': 15749000000,\n",
       "     'changeToLiabilities': -11693000000,\n",
       "     'totalCashflowsFromInvestingActivities': 13348000000,\n",
       "     'netBorrowings': -2506000000,\n",
       "     'totalCashFromFinancingActivities': -29457000000,\n",
       "     'changeToOperatingActivities': 4037000000,\n",
       "     'issuanceOfStock': 390000000,\n",
       "     'netIncome': 11561000000,\n",
       "     'changeInCash': -4954000000,\n",
       "     'repurchaseOfStock': -23811000000,\n",
       "     'totalCashFromOperatingActivities': 11155000000,\n",
       "     'depreciation': 3040000000,\n",
       "     'otherCashflowsFromInvestingActivities': 86000000,\n",
       "     'dividendsPaid': -3443000000,\n",
       "     'changeToInventory': 70000000,\n",
       "     'changeToAccountReceivables': 2964000000,\n",
       "     'otherCashflowsFromFinancingActivities': -87000000,\n",
       "     'changeToNetincome': 1176000000,\n",
       "     'capitalExpenditures': -2363000000}},\n",
       "   {'2018-12-29': {'investments': 9422000000,\n",
       "     'changeToLiabilities': -8871000000,\n",
       "     'totalCashflowsFromInvestingActivities': 5844000000,\n",
       "     'netBorrowings': 6000000,\n",
       "     'totalCashFromFinancingActivities': -13676000000,\n",
       "     'changeToOperatingActivities': 6589000000,\n",
       "     'issuanceOfStock': 390000000,\n",
       "     'netIncome': 19965000000,\n",
       "     'changeInCash': 18858000000,\n",
       "     'repurchaseOfStock': -10114000000,\n",
       "     'totalCashFromOperatingActivities': 26690000000,\n",
       "     'depreciation': 3395000000,\n",
       "     'otherCashflowsFromInvestingActivities': -56000000,\n",
       "     'dividendsPaid': -3568000000,\n",
       "     'changeToInventory': -1076000000,\n",
       "     'changeToAccountReceivables': 5130000000,\n",
       "     'otherCashflowsFromFinancingActivities': -87000000,\n",
       "     'changeToNetincome': 1558000000,\n",
       "     'capitalExpenditures': -3355000000}},\n",
       "   {'2018-09-29': {'investments': 552000000,\n",
       "     'changeToLiabilities': 20373000000,\n",
       "     'totalCashflowsFromInvestingActivities': -3001000000,\n",
       "     'netBorrowings': -27000000,\n",
       "     'totalCashFromFinancingActivities': -22580000000,\n",
       "     'changeToOperatingActivities': -12423000000,\n",
       "     'issuanceOfStock': 341000000,\n",
       "     'netIncome': 14125000000,\n",
       "     'changeInCash': -6058000000,\n",
       "     'repurchaseOfStock': -19364000000,\n",
       "     'totalCashFromOperatingActivities': 19523000000,\n",
       "     'depreciation': 2754000000,\n",
       "     'otherCashflowsFromInvestingActivities': -222000000,\n",
       "     'dividendsPaid': -3530000000,\n",
       "     'changeToInventory': 1942000000,\n",
       "     'changeToAccountReceivables': -9078000000,\n",
       "     'otherCashflowsFromFinancingActivities': -87000000,\n",
       "     'changeToNetincome': 1830000000,\n",
       "     'capitalExpenditures': -3041000000}}]},\n",
       " 'balanceSheetHistoryQuarterly': {'AAPL': [{'2019-06-29': {'totalLiab': 225783000000,\n",
       "     'totalStockholderEquity': 96456000000,\n",
       "     'otherCurrentLiab': 37107000000,\n",
       "     'totalAssets': 322239000000,\n",
       "     'commonStock': 43371000000,\n",
       "     'otherCurrentAssets': 10530000000,\n",
       "     'retainedEarnings': 53724000000,\n",
       "     'otherLiab': 51143000000,\n",
       "     'treasuryStock': -639000000,\n",
       "     'otherAssets': 33634000000,\n",
       "     'cash': 50530000000,\n",
       "     'totalCurrentLiabilities': 89704000000,\n",
       "     'shortLongTermDebt': 13529000000,\n",
       "     'otherStockholderEquity': -639000000,\n",
       "     'propertyPlantEquipment': 37636000000,\n",
       "     'totalCurrentAssets': 134973000000,\n",
       "     'longTermInvestments': 115996000000,\n",
       "     'netTangibleAssets': 96456000000,\n",
       "     'shortTermInvestments': 44084000000,\n",
       "     'netReceivables': 26474000000,\n",
       "     'longTermDebt': 84936000000,\n",
       "     'inventory': 3355000000,\n",
       "     'accountsPayable': 29115000000}},\n",
       "   {'2019-03-30': {'totalLiab': 236138000000,\n",
       "     'totalStockholderEquity': 105860000000,\n",
       "     'otherCurrentLiab': 40900000000,\n",
       "     'totalAssets': 341998000000,\n",
       "     'commonStock': 42801000000,\n",
       "     'otherCurrentAssets': 12092000000,\n",
       "     'retainedEarnings': 64558000000,\n",
       "     'otherLiab': 52165000000,\n",
       "     'treasuryStock': -1499000000,\n",
       "     'otherAssets': 34587000000,\n",
       "     'cash': 37988000000,\n",
       "     'totalCurrentLiabilities': 93772000000,\n",
       "     'shortLongTermDebt': 10505000000,\n",
       "     'otherStockholderEquity': -1499000000,\n",
       "     'propertyPlantEquipment': 38746000000,\n",
       "     'totalCurrentAssets': 123346000000,\n",
       "     'longTermInvestments': 145319000000,\n",
       "     'netTangibleAssets': 105860000000,\n",
       "     'shortTermInvestments': 42104000000,\n",
       "     'netReceivables': 26278000000,\n",
       "     'longTermDebt': 90201000000,\n",
       "     'inventory': 4884000000,\n",
       "     'accountsPayable': 30443000000}},\n",
       "   {'2018-12-29': {'totalLiab': 255827000000,\n",
       "     'totalStockholderEquity': 117892000000,\n",
       "     'otherCurrentLiab': 42249000000,\n",
       "     'totalAssets': 373719000000,\n",
       "     'commonStock': 40970000000,\n",
       "     'otherCurrentAssets': 12432000000,\n",
       "     'retainedEarnings': 80510000000,\n",
       "     'otherLiab': 54555000000,\n",
       "     'treasuryStock': -3588000000,\n",
       "     'otherAssets': 34686000000,\n",
       "     'cash': 44771000000,\n",
       "     'totalCurrentLiabilities': 108283000000,\n",
       "     'shortLongTermDebt': 9772000000,\n",
       "     'otherStockholderEquity': -3588000000,\n",
       "     'propertyPlantEquipment': 39597000000,\n",
       "     'totalCurrentAssets': 140828000000,\n",
       "     'longTermInvestments': 158608000000,\n",
       "     'netTangibleAssets': 117892000000,\n",
       "     'shortTermInvestments': 41656000000,\n",
       "     'netReceivables': 36981000000,\n",
       "     'longTermDebt': 92989000000,\n",
       "     'inventory': 4988000000,\n",
       "     'accountsPayable': 44293000000}},\n",
       "   {'2018-09-29': {'totalLiab': 258578000000,\n",
       "     'totalStockholderEquity': 107147000000,\n",
       "     'otherCurrentLiab': 40230000000,\n",
       "     'totalAssets': 365725000000,\n",
       "     'commonStock': 40201000000,\n",
       "     'otherCurrentAssets': 12087000000,\n",
       "     'retainedEarnings': 70400000000,\n",
       "     'otherLiab': 47977000000,\n",
       "     'treasuryStock': -3454000000,\n",
       "     'otherAssets': 22283000000,\n",
       "     'cash': 25913000000,\n",
       "     'totalCurrentLiabilities': 116866000000,\n",
       "     'shortLongTermDebt': 8784000000,\n",
       "     'otherStockholderEquity': -3454000000,\n",
       "     'propertyPlantEquipment': 41304000000,\n",
       "     'totalCurrentAssets': 131339000000,\n",
       "     'longTermInvestments': 170799000000,\n",
       "     'netTangibleAssets': 107147000000,\n",
       "     'shortTermInvestments': 40388000000,\n",
       "     'netReceivables': 48995000000,\n",
       "     'longTermDebt': 93735000000,\n",
       "     'inventory': 3956000000,\n",
       "     'accountsPayable': 55888000000}}]}}"
      ]
     },
     "execution_count": 6,
     "metadata": {},
     "output_type": "execute_result"
    }
   ],
   "source": [
    "all_statement_data_qt"
   ]
  },
  {
   "cell_type": "code",
   "execution_count": 55,
   "metadata": {},
   "outputs": [],
   "source": [
    "statements = json_normalize(all_statement_data_qt)"
   ]
  },
  {
   "cell_type": "markdown",
   "metadata": {},
   "source": [
    "Check the content in the json "
   ]
  },
  {
   "cell_type": "markdown",
   "metadata": {},
   "source": [
    "## Json\n",
    "\n",
    "JSON, or JavaScript Object Notation, is a minimal, readable format for structuring data. It is used primarily to transmit data between a server and web application, as an alternative to XML. Squarespace uses JSON to store and organize site content created with the CMS."
   ]
  },
  {
   "cell_type": "markdown",
   "metadata": {},
   "source": [
    "<img src=\"media/JSONSample.jpg\" width=\"600\">"
   ]
  },
  {
   "cell_type": "markdown",
   "metadata": {},
   "source": [
    "Summarizing: It's a dictionary "
   ]
  },
  {
   "cell_type": "code",
   "execution_count": 56,
   "metadata": {},
   "outputs": [
    {
     "data": {
      "text/html": [
       "<div>\n",
       "<style scoped>\n",
       "    .dataframe tbody tr th:only-of-type {\n",
       "        vertical-align: middle;\n",
       "    }\n",
       "\n",
       "    .dataframe tbody tr th {\n",
       "        vertical-align: top;\n",
       "    }\n",
       "\n",
       "    .dataframe thead th {\n",
       "        text-align: right;\n",
       "    }\n",
       "</style>\n",
       "<table border=\"1\" class=\"dataframe\">\n",
       "  <thead>\n",
       "    <tr style=\"text-align: right;\">\n",
       "      <th></th>\n",
       "      <th>balanceSheetHistoryQuarterly.AAPL</th>\n",
       "      <th>cashflowStatementHistoryQuarterly.AAPL</th>\n",
       "      <th>incomeStatementHistoryQuarterly.AAPL</th>\n",
       "    </tr>\n",
       "  </thead>\n",
       "  <tbody>\n",
       "    <tr>\n",
       "      <th>0</th>\n",
       "      <td>[{'2019-06-29': {'totalLiab': 225783000000, 't...</td>\n",
       "      <td>[{'2019-06-29': {'investments': 30120000000, '...</td>\n",
       "      <td>[{'2019-06-29': {'researchDevelopment': 425700...</td>\n",
       "    </tr>\n",
       "  </tbody>\n",
       "</table>\n",
       "</div>"
      ],
      "text/plain": [
       "                   balanceSheetHistoryQuarterly.AAPL  \\\n",
       "0  [{'2019-06-29': {'totalLiab': 225783000000, 't...   \n",
       "\n",
       "              cashflowStatementHistoryQuarterly.AAPL  \\\n",
       "0  [{'2019-06-29': {'investments': 30120000000, '...   \n",
       "\n",
       "                incomeStatementHistoryQuarterly.AAPL  \n",
       "0  [{'2019-06-29': {'researchDevelopment': 425700...  "
      ]
     },
     "execution_count": 56,
     "metadata": {},
     "output_type": "execute_result"
    }
   ],
   "source": [
    "statements"
   ]
  },
  {
   "cell_type": "markdown",
   "metadata": {},
   "source": [
    "We have a Balance Sheet, Cash Flow Statement and Income Statement"
   ]
  },
  {
   "cell_type": "code",
   "execution_count": 59,
   "metadata": {},
   "outputs": [
    {
     "data": {
      "text/plain": [
       "balanceSheetHistoryQuarterly.AAPL         [{'2019-06-29': {'totalLiab': 225783000000, 't...\n",
       "cashflowStatementHistoryQuarterly.AAPL    [{'2019-06-29': {'investments': 30120000000, '...\n",
       "incomeStatementHistoryQuarterly.AAPL      [{'2019-06-29': {'researchDevelopment': 425700...\n",
       "Name: 0, dtype: object"
      ]
     },
     "execution_count": 59,
     "metadata": {},
     "output_type": "execute_result"
    }
   ],
   "source": [
    "statements.loc[0]"
   ]
  },
  {
   "cell_type": "markdown",
   "metadata": {},
   "source": [
    "Take a look at Apple's Quarterly Balance Sheets"
   ]
  },
  {
   "cell_type": "code",
   "execution_count": 29,
   "metadata": {},
   "outputs": [
    {
     "data": {
      "text/plain": [
       "[{'2019-06-29': {'totalLiab': 225783000000,\n",
       "   'totalStockholderEquity': 96456000000,\n",
       "   'otherCurrentLiab': 37107000000,\n",
       "   'totalAssets': 322239000000,\n",
       "   'commonStock': 43371000000,\n",
       "   'otherCurrentAssets': 10530000000,\n",
       "   'retainedEarnings': 53724000000,\n",
       "   'otherLiab': 51143000000,\n",
       "   'treasuryStock': -639000000,\n",
       "   'otherAssets': 33634000000,\n",
       "   'cash': 50530000000,\n",
       "   'totalCurrentLiabilities': 89704000000,\n",
       "   'shortLongTermDebt': 13529000000,\n",
       "   'otherStockholderEquity': -639000000,\n",
       "   'propertyPlantEquipment': 37636000000,\n",
       "   'totalCurrentAssets': 134973000000,\n",
       "   'longTermInvestments': 115996000000,\n",
       "   'netTangibleAssets': 96456000000,\n",
       "   'shortTermInvestments': 44084000000,\n",
       "   'netReceivables': 26474000000,\n",
       "   'longTermDebt': 84936000000,\n",
       "   'inventory': 3355000000,\n",
       "   'accountsPayable': 29115000000}},\n",
       " {'2019-03-30': {'totalLiab': 236138000000,\n",
       "   'totalStockholderEquity': 105860000000,\n",
       "   'otherCurrentLiab': 40900000000,\n",
       "   'totalAssets': 341998000000,\n",
       "   'commonStock': 42801000000,\n",
       "   'otherCurrentAssets': 12092000000,\n",
       "   'retainedEarnings': 64558000000,\n",
       "   'otherLiab': 52165000000,\n",
       "   'treasuryStock': -1499000000,\n",
       "   'otherAssets': 34587000000,\n",
       "   'cash': 37988000000,\n",
       "   'totalCurrentLiabilities': 93772000000,\n",
       "   'shortLongTermDebt': 10505000000,\n",
       "   'otherStockholderEquity': -1499000000,\n",
       "   'propertyPlantEquipment': 38746000000,\n",
       "   'totalCurrentAssets': 123346000000,\n",
       "   'longTermInvestments': 145319000000,\n",
       "   'netTangibleAssets': 105860000000,\n",
       "   'shortTermInvestments': 42104000000,\n",
       "   'netReceivables': 26278000000,\n",
       "   'longTermDebt': 90201000000,\n",
       "   'inventory': 4884000000,\n",
       "   'accountsPayable': 30443000000}},\n",
       " {'2018-12-29': {'totalLiab': 255827000000,\n",
       "   'totalStockholderEquity': 117892000000,\n",
       "   'otherCurrentLiab': 42249000000,\n",
       "   'totalAssets': 373719000000,\n",
       "   'commonStock': 40970000000,\n",
       "   'otherCurrentAssets': 12432000000,\n",
       "   'retainedEarnings': 80510000000,\n",
       "   'otherLiab': 54555000000,\n",
       "   'treasuryStock': -3588000000,\n",
       "   'otherAssets': 34686000000,\n",
       "   'cash': 44771000000,\n",
       "   'totalCurrentLiabilities': 108283000000,\n",
       "   'shortLongTermDebt': 9772000000,\n",
       "   'otherStockholderEquity': -3588000000,\n",
       "   'propertyPlantEquipment': 39597000000,\n",
       "   'totalCurrentAssets': 140828000000,\n",
       "   'longTermInvestments': 158608000000,\n",
       "   'netTangibleAssets': 117892000000,\n",
       "   'shortTermInvestments': 41656000000,\n",
       "   'netReceivables': 36981000000,\n",
       "   'longTermDebt': 92989000000,\n",
       "   'inventory': 4988000000,\n",
       "   'accountsPayable': 44293000000}},\n",
       " {'2018-09-29': {'totalLiab': 258578000000,\n",
       "   'totalStockholderEquity': 107147000000,\n",
       "   'otherCurrentLiab': 40230000000,\n",
       "   'totalAssets': 365725000000,\n",
       "   'commonStock': 40201000000,\n",
       "   'otherCurrentAssets': 12087000000,\n",
       "   'retainedEarnings': 70400000000,\n",
       "   'otherLiab': 47977000000,\n",
       "   'treasuryStock': -3454000000,\n",
       "   'otherAssets': 22283000000,\n",
       "   'cash': 25913000000,\n",
       "   'totalCurrentLiabilities': 116866000000,\n",
       "   'shortLongTermDebt': 8784000000,\n",
       "   'otherStockholderEquity': -3454000000,\n",
       "   'propertyPlantEquipment': 41304000000,\n",
       "   'totalCurrentAssets': 131339000000,\n",
       "   'longTermInvestments': 170799000000,\n",
       "   'netTangibleAssets': 107147000000,\n",
       "   'shortTermInvestments': 40388000000,\n",
       "   'netReceivables': 48995000000,\n",
       "   'longTermDebt': 93735000000,\n",
       "   'inventory': 3956000000,\n",
       "   'accountsPayable': 55888000000}}]"
      ]
     },
     "execution_count": 29,
     "metadata": {},
     "output_type": "execute_result"
    }
   ],
   "source": [
    "statements.loc[0][0]"
   ]
  },
  {
   "cell_type": "markdown",
   "metadata": {},
   "source": [
    "### Take a look at the last APPL's quarter"
   ]
  },
  {
   "cell_type": "code",
   "execution_count": 81,
   "metadata": {},
   "outputs": [
    {
     "data": {
      "text/plain": [
       "{'2019-06-29': {'totalLiab': 225783000000,\n",
       "  'totalStockholderEquity': 96456000000,\n",
       "  'otherCurrentLiab': 37107000000,\n",
       "  'totalAssets': 322239000000,\n",
       "  'commonStock': 43371000000,\n",
       "  'otherCurrentAssets': 10530000000,\n",
       "  'retainedEarnings': 53724000000,\n",
       "  'otherLiab': 51143000000,\n",
       "  'treasuryStock': -639000000,\n",
       "  'otherAssets': 33634000000,\n",
       "  'cash': 50530000000,\n",
       "  'totalCurrentLiabilities': 89704000000,\n",
       "  'shortLongTermDebt': 13529000000,\n",
       "  'otherStockholderEquity': -639000000,\n",
       "  'propertyPlantEquipment': 37636000000,\n",
       "  'totalCurrentAssets': 134973000000,\n",
       "  'longTermInvestments': 115996000000,\n",
       "  'netTangibleAssets': 96456000000,\n",
       "  'shortTermInvestments': 44084000000,\n",
       "  'netReceivables': 26474000000,\n",
       "  'longTermDebt': 84936000000,\n",
       "  'inventory': 3355000000,\n",
       "  'accountsPayable': 29115000000}}"
      ]
     },
     "execution_count": 81,
     "metadata": {},
     "output_type": "execute_result"
    }
   ],
   "source": [
    "last_quart = statements.loc[0][0][0]\n",
    "last_quart"
   ]
  },
  {
   "cell_type": "markdown",
   "metadata": {},
   "source": [
    "### Take Information from the first Quarter\n",
    "Note that we are using pd.DataFrame.from_dict()"
   ]
  },
  {
   "cell_type": "code",
   "execution_count": 82,
   "metadata": {},
   "outputs": [
    {
     "data": {
      "text/html": [
       "<div>\n",
       "<style scoped>\n",
       "    .dataframe tbody tr th:only-of-type {\n",
       "        vertical-align: middle;\n",
       "    }\n",
       "\n",
       "    .dataframe tbody tr th {\n",
       "        vertical-align: top;\n",
       "    }\n",
       "\n",
       "    .dataframe thead th {\n",
       "        text-align: right;\n",
       "    }\n",
       "</style>\n",
       "<table border=\"1\" class=\"dataframe\">\n",
       "  <thead>\n",
       "    <tr style=\"text-align: right;\">\n",
       "      <th></th>\n",
       "      <th>2019-06-29</th>\n",
       "    </tr>\n",
       "  </thead>\n",
       "  <tbody>\n",
       "    <tr>\n",
       "      <th>accountsPayable</th>\n",
       "      <td>29115000000</td>\n",
       "    </tr>\n",
       "    <tr>\n",
       "      <th>cash</th>\n",
       "      <td>50530000000</td>\n",
       "    </tr>\n",
       "    <tr>\n",
       "      <th>commonStock</th>\n",
       "      <td>43371000000</td>\n",
       "    </tr>\n",
       "    <tr>\n",
       "      <th>inventory</th>\n",
       "      <td>3355000000</td>\n",
       "    </tr>\n",
       "    <tr>\n",
       "      <th>longTermDebt</th>\n",
       "      <td>84936000000</td>\n",
       "    </tr>\n",
       "    <tr>\n",
       "      <th>longTermInvestments</th>\n",
       "      <td>115996000000</td>\n",
       "    </tr>\n",
       "    <tr>\n",
       "      <th>netReceivables</th>\n",
       "      <td>26474000000</td>\n",
       "    </tr>\n",
       "    <tr>\n",
       "      <th>netTangibleAssets</th>\n",
       "      <td>96456000000</td>\n",
       "    </tr>\n",
       "    <tr>\n",
       "      <th>otherAssets</th>\n",
       "      <td>33634000000</td>\n",
       "    </tr>\n",
       "    <tr>\n",
       "      <th>otherCurrentAssets</th>\n",
       "      <td>10530000000</td>\n",
       "    </tr>\n",
       "    <tr>\n",
       "      <th>otherCurrentLiab</th>\n",
       "      <td>37107000000</td>\n",
       "    </tr>\n",
       "    <tr>\n",
       "      <th>otherLiab</th>\n",
       "      <td>51143000000</td>\n",
       "    </tr>\n",
       "    <tr>\n",
       "      <th>otherStockholderEquity</th>\n",
       "      <td>-639000000</td>\n",
       "    </tr>\n",
       "    <tr>\n",
       "      <th>propertyPlantEquipment</th>\n",
       "      <td>37636000000</td>\n",
       "    </tr>\n",
       "    <tr>\n",
       "      <th>retainedEarnings</th>\n",
       "      <td>53724000000</td>\n",
       "    </tr>\n",
       "    <tr>\n",
       "      <th>shortLongTermDebt</th>\n",
       "      <td>13529000000</td>\n",
       "    </tr>\n",
       "    <tr>\n",
       "      <th>shortTermInvestments</th>\n",
       "      <td>44084000000</td>\n",
       "    </tr>\n",
       "    <tr>\n",
       "      <th>totalAssets</th>\n",
       "      <td>322239000000</td>\n",
       "    </tr>\n",
       "    <tr>\n",
       "      <th>totalCurrentAssets</th>\n",
       "      <td>134973000000</td>\n",
       "    </tr>\n",
       "    <tr>\n",
       "      <th>totalCurrentLiabilities</th>\n",
       "      <td>89704000000</td>\n",
       "    </tr>\n",
       "    <tr>\n",
       "      <th>totalLiab</th>\n",
       "      <td>225783000000</td>\n",
       "    </tr>\n",
       "    <tr>\n",
       "      <th>totalStockholderEquity</th>\n",
       "      <td>96456000000</td>\n",
       "    </tr>\n",
       "    <tr>\n",
       "      <th>treasuryStock</th>\n",
       "      <td>-639000000</td>\n",
       "    </tr>\n",
       "  </tbody>\n",
       "</table>\n",
       "</div>"
      ],
      "text/plain": [
       "                           2019-06-29\n",
       "accountsPayable           29115000000\n",
       "cash                      50530000000\n",
       "commonStock               43371000000\n",
       "inventory                  3355000000\n",
       "longTermDebt              84936000000\n",
       "longTermInvestments      115996000000\n",
       "netReceivables            26474000000\n",
       "netTangibleAssets         96456000000\n",
       "otherAssets               33634000000\n",
       "otherCurrentAssets        10530000000\n",
       "otherCurrentLiab          37107000000\n",
       "otherLiab                 51143000000\n",
       "otherStockholderEquity     -639000000\n",
       "propertyPlantEquipment    37636000000\n",
       "retainedEarnings          53724000000\n",
       "shortLongTermDebt         13529000000\n",
       "shortTermInvestments      44084000000\n",
       "totalAssets              322239000000\n",
       "totalCurrentAssets       134973000000\n",
       "totalCurrentLiabilities   89704000000\n",
       "totalLiab                225783000000\n",
       "totalStockholderEquity    96456000000\n",
       "treasuryStock              -639000000"
      ]
     },
     "execution_count": 82,
     "metadata": {},
     "output_type": "execute_result"
    }
   ],
   "source": [
    "last_quarter_bs = pd.DataFrame.from_dict(last_quart)\n",
    "last_quarter_bs"
   ]
  },
  {
   "cell_type": "markdown",
   "metadata": {},
   "source": [
    "Why don't we just convert everything into a Data Frame from the beginning???"
   ]
  },
  {
   "cell_type": "code",
   "execution_count": 83,
   "metadata": {},
   "outputs": [
    {
     "data": {
      "text/html": [
       "<div>\n",
       "<style scoped>\n",
       "    .dataframe tbody tr th:only-of-type {\n",
       "        vertical-align: middle;\n",
       "    }\n",
       "\n",
       "    .dataframe tbody tr th {\n",
       "        vertical-align: top;\n",
       "    }\n",
       "\n",
       "    .dataframe thead th {\n",
       "        text-align: right;\n",
       "    }\n",
       "</style>\n",
       "<table border=\"1\" class=\"dataframe\">\n",
       "  <thead>\n",
       "    <tr style=\"text-align: right;\">\n",
       "      <th></th>\n",
       "      <th>2018-09-29</th>\n",
       "      <th>2018-12-29</th>\n",
       "      <th>2019-03-30</th>\n",
       "      <th>2019-06-29</th>\n",
       "    </tr>\n",
       "  </thead>\n",
       "  <tbody>\n",
       "    <tr>\n",
       "      <th>0</th>\n",
       "      <td>NaN</td>\n",
       "      <td>NaN</td>\n",
       "      <td>NaN</td>\n",
       "      <td>{'totalLiab': 225783000000, 'totalStockholderE...</td>\n",
       "    </tr>\n",
       "    <tr>\n",
       "      <th>1</th>\n",
       "      <td>NaN</td>\n",
       "      <td>NaN</td>\n",
       "      <td>{'totalLiab': 236138000000, 'totalStockholderE...</td>\n",
       "      <td>NaN</td>\n",
       "    </tr>\n",
       "    <tr>\n",
       "      <th>2</th>\n",
       "      <td>NaN</td>\n",
       "      <td>{'totalLiab': 255827000000, 'totalStockholderE...</td>\n",
       "      <td>NaN</td>\n",
       "      <td>NaN</td>\n",
       "    </tr>\n",
       "    <tr>\n",
       "      <th>3</th>\n",
       "      <td>{'totalLiab': 258578000000, 'totalStockholderE...</td>\n",
       "      <td>NaN</td>\n",
       "      <td>NaN</td>\n",
       "      <td>NaN</td>\n",
       "    </tr>\n",
       "  </tbody>\n",
       "</table>\n",
       "</div>"
      ],
      "text/plain": [
       "                                          2018-09-29  \\\n",
       "0                                                NaN   \n",
       "1                                                NaN   \n",
       "2                                                NaN   \n",
       "3  {'totalLiab': 258578000000, 'totalStockholderE...   \n",
       "\n",
       "                                          2018-12-29  \\\n",
       "0                                                NaN   \n",
       "1                                                NaN   \n",
       "2  {'totalLiab': 255827000000, 'totalStockholderE...   \n",
       "3                                                NaN   \n",
       "\n",
       "                                          2019-03-30  \\\n",
       "0                                                NaN   \n",
       "1  {'totalLiab': 236138000000, 'totalStockholderE...   \n",
       "2                                                NaN   \n",
       "3                                                NaN   \n",
       "\n",
       "                                          2019-06-29  \n",
       "0  {'totalLiab': 225783000000, 'totalStockholderE...  \n",
       "1                                                NaN  \n",
       "2                                                NaN  \n",
       "3                                                NaN  "
      ]
     },
     "execution_count": 83,
     "metadata": {},
     "output_type": "execute_result"
    }
   ],
   "source": [
    "pd.DataFrame.from_dict(statements.loc[0][0])"
   ]
  },
  {
   "cell_type": "markdown",
   "metadata": {},
   "source": [
    "## Playing with these indexes we can make some basic analysis \n",
    "## Some examples:"
   ]
  },
  {
   "cell_type": "markdown",
   "metadata": {},
   "source": [
    "Calculate the **Current Ratio** of AAPL in the last quarter"
   ]
  },
  {
   "cell_type": "markdown",
   "metadata": {},
   "source": [
    "Current Ratio = Current Assets / Current Liabilities"
   ]
  },
  {
   "cell_type": "code",
   "execution_count": 84,
   "metadata": {},
   "outputs": [
    {
     "data": {
      "text/plain": [
       "2019-06-29    1.504649\n",
       "dtype: float64"
      ]
     },
     "execution_count": 84,
     "metadata": {},
     "output_type": "execute_result"
    }
   ],
   "source": [
    "last_quarter_bs.loc['totalCurrentAssets'] / last_quarter_bs.loc['totalCurrentLiabilities']"
   ]
  },
  {
   "cell_type": "markdown",
   "metadata": {},
   "source": [
    "## Analyzing the Income Statement"
   ]
  },
  {
   "cell_type": "code",
   "execution_count": 74,
   "metadata": {},
   "outputs": [
    {
     "data": {
      "text/html": [
       "<div>\n",
       "<style scoped>\n",
       "    .dataframe tbody tr th:only-of-type {\n",
       "        vertical-align: middle;\n",
       "    }\n",
       "\n",
       "    .dataframe tbody tr th {\n",
       "        vertical-align: top;\n",
       "    }\n",
       "\n",
       "    .dataframe thead th {\n",
       "        text-align: right;\n",
       "    }\n",
       "</style>\n",
       "<table border=\"1\" class=\"dataframe\">\n",
       "  <thead>\n",
       "    <tr style=\"text-align: right;\">\n",
       "      <th></th>\n",
       "      <th>balanceSheetHistoryQuarterly.AAPL</th>\n",
       "      <th>cashflowStatementHistoryQuarterly.AAPL</th>\n",
       "      <th>incomeStatementHistoryQuarterly.AAPL</th>\n",
       "    </tr>\n",
       "  </thead>\n",
       "  <tbody>\n",
       "    <tr>\n",
       "      <th>0</th>\n",
       "      <td>[{'2019-06-29': {'totalLiab': 225783000000, 't...</td>\n",
       "      <td>[{'2019-06-29': {'investments': 30120000000, '...</td>\n",
       "      <td>[{'2019-06-29': {'researchDevelopment': 425700...</td>\n",
       "    </tr>\n",
       "  </tbody>\n",
       "</table>\n",
       "</div>"
      ],
      "text/plain": [
       "                   balanceSheetHistoryQuarterly.AAPL  \\\n",
       "0  [{'2019-06-29': {'totalLiab': 225783000000, 't...   \n",
       "\n",
       "              cashflowStatementHistoryQuarterly.AAPL  \\\n",
       "0  [{'2019-06-29': {'investments': 30120000000, '...   \n",
       "\n",
       "                incomeStatementHistoryQuarterly.AAPL  \n",
       "0  [{'2019-06-29': {'researchDevelopment': 425700...  "
      ]
     },
     "execution_count": 74,
     "metadata": {},
     "output_type": "execute_result"
    }
   ],
   "source": [
    "statements"
   ]
  },
  {
   "cell_type": "code",
   "execution_count": 78,
   "metadata": {},
   "outputs": [
    {
     "data": {
      "text/plain": [
       "[{'2019-06-29': {'researchDevelopment': 4257000000,\n",
       "   'effectOfAccountingCharges': None,\n",
       "   'incomeBeforeTax': 11911000000,\n",
       "   'minorityInterest': None,\n",
       "   'netIncome': 10044000000,\n",
       "   'sellingGeneralAdministrative': 4426000000,\n",
       "   'grossProfit': 20227000000,\n",
       "   'ebit': 11544000000,\n",
       "   'operatingIncome': 11544000000,\n",
       "   'otherOperatingExpenses': None,\n",
       "   'interestExpense': -866000000,\n",
       "   'extraordinaryItems': None,\n",
       "   'nonRecurring': None,\n",
       "   'otherItems': None,\n",
       "   'incomeTaxExpense': 1867000000,\n",
       "   'totalRevenue': 53809000000,\n",
       "   'totalOperatingExpenses': 42265000000,\n",
       "   'costOfRevenue': 33582000000,\n",
       "   'totalOtherIncomeExpenseNet': 367000000,\n",
       "   'discontinuedOperations': None,\n",
       "   'netIncomeFromContinuingOps': 10044000000,\n",
       "   'netIncomeApplicableToCommonShares': 10044000000}},\n",
       " {'2019-03-30': {'researchDevelopment': 3948000000,\n",
       "   'effectOfAccountingCharges': None,\n",
       "   'incomeBeforeTax': 13793000000,\n",
       "   'minorityInterest': None,\n",
       "   'netIncome': 11561000000,\n",
       "   'sellingGeneralAdministrative': 4458000000,\n",
       "   'grossProfit': 21821000000,\n",
       "   'ebit': 13415000000,\n",
       "   'operatingIncome': 13415000000,\n",
       "   'otherOperatingExpenses': None,\n",
       "   'interestExpense': -1010000000,\n",
       "   'extraordinaryItems': None,\n",
       "   'nonRecurring': None,\n",
       "   'otherItems': None,\n",
       "   'incomeTaxExpense': 2232000000,\n",
       "   'totalRevenue': 58015000000,\n",
       "   'totalOperatingExpenses': 44600000000,\n",
       "   'costOfRevenue': 36194000000,\n",
       "   'totalOtherIncomeExpenseNet': 378000000,\n",
       "   'discontinuedOperations': None,\n",
       "   'netIncomeFromContinuingOps': 11561000000,\n",
       "   'netIncomeApplicableToCommonShares': 11561000000}},\n",
       " {'2018-12-29': {'researchDevelopment': 3902000000,\n",
       "   'effectOfAccountingCharges': None,\n",
       "   'incomeBeforeTax': 23906000000,\n",
       "   'minorityInterest': None,\n",
       "   'netIncome': 19965000000,\n",
       "   'sellingGeneralAdministrative': 4783000000,\n",
       "   'grossProfit': 32031000000,\n",
       "   'ebit': 23346000000,\n",
       "   'operatingIncome': 23346000000,\n",
       "   'otherOperatingExpenses': None,\n",
       "   'interestExpense': -890000000,\n",
       "   'extraordinaryItems': None,\n",
       "   'nonRecurring': None,\n",
       "   'otherItems': None,\n",
       "   'incomeTaxExpense': 3941000000,\n",
       "   'totalRevenue': 84310000000,\n",
       "   'totalOperatingExpenses': 60964000000,\n",
       "   'costOfRevenue': 52279000000,\n",
       "   'totalOtherIncomeExpenseNet': 560000000,\n",
       "   'discontinuedOperations': None,\n",
       "   'netIncomeFromContinuingOps': 19965000000,\n",
       "   'netIncomeApplicableToCommonShares': 19965000000}},\n",
       " {'2018-09-29': {'researchDevelopment': 3750000000,\n",
       "   'effectOfAccountingCharges': None,\n",
       "   'incomeBeforeTax': 16421000000,\n",
       "   'minorityInterest': None,\n",
       "   'netIncome': 14125000000,\n",
       "   'sellingGeneralAdministrative': 4216000000,\n",
       "   'grossProfit': 24084000000,\n",
       "   'ebit': 16118000000,\n",
       "   'operatingIncome': 16118000000,\n",
       "   'otherOperatingExpenses': None,\n",
       "   'interestExpense': -868000000,\n",
       "   'extraordinaryItems': None,\n",
       "   'nonRecurring': None,\n",
       "   'otherItems': None,\n",
       "   'incomeTaxExpense': 2296000000,\n",
       "   'totalRevenue': 62900000000,\n",
       "   'totalOperatingExpenses': 46782000000,\n",
       "   'costOfRevenue': 38816000000,\n",
       "   'totalOtherIncomeExpenseNet': 303000000,\n",
       "   'discontinuedOperations': None,\n",
       "   'netIncomeFromContinuingOps': 14125000000,\n",
       "   'netIncomeApplicableToCommonShares': 14125000000}}]"
      ]
     },
     "execution_count": 78,
     "metadata": {},
     "output_type": "execute_result"
    }
   ],
   "source": [
    "statements.loc[0][2]"
   ]
  },
  {
   "cell_type": "code",
   "execution_count": 85,
   "metadata": {},
   "outputs": [
    {
     "data": {
      "text/plain": [
       "{'2019-06-29': {'researchDevelopment': 4257000000,\n",
       "  'effectOfAccountingCharges': None,\n",
       "  'incomeBeforeTax': 11911000000,\n",
       "  'minorityInterest': None,\n",
       "  'netIncome': 10044000000,\n",
       "  'sellingGeneralAdministrative': 4426000000,\n",
       "  'grossProfit': 20227000000,\n",
       "  'ebit': 11544000000,\n",
       "  'operatingIncome': 11544000000,\n",
       "  'otherOperatingExpenses': None,\n",
       "  'interestExpense': -866000000,\n",
       "  'extraordinaryItems': None,\n",
       "  'nonRecurring': None,\n",
       "  'otherItems': None,\n",
       "  'incomeTaxExpense': 1867000000,\n",
       "  'totalRevenue': 53809000000,\n",
       "  'totalOperatingExpenses': 42265000000,\n",
       "  'costOfRevenue': 33582000000,\n",
       "  'totalOtherIncomeExpenseNet': 367000000,\n",
       "  'discontinuedOperations': None,\n",
       "  'netIncomeFromContinuingOps': 10044000000,\n",
       "  'netIncomeApplicableToCommonShares': 10044000000}}"
      ]
     },
     "execution_count": 85,
     "metadata": {},
     "output_type": "execute_result"
    }
   ],
   "source": [
    "last_quart_is = statements.loc[0][2][0]\n",
    "last_quart_is"
   ]
  },
  {
   "cell_type": "code",
   "execution_count": 87,
   "metadata": {},
   "outputs": [
    {
     "data": {
      "text/html": [
       "<div>\n",
       "<style scoped>\n",
       "    .dataframe tbody tr th:only-of-type {\n",
       "        vertical-align: middle;\n",
       "    }\n",
       "\n",
       "    .dataframe tbody tr th {\n",
       "        vertical-align: top;\n",
       "    }\n",
       "\n",
       "    .dataframe thead th {\n",
       "        text-align: right;\n",
       "    }\n",
       "</style>\n",
       "<table border=\"1\" class=\"dataframe\">\n",
       "  <thead>\n",
       "    <tr style=\"text-align: right;\">\n",
       "      <th></th>\n",
       "      <th>2019-06-29</th>\n",
       "    </tr>\n",
       "  </thead>\n",
       "  <tbody>\n",
       "    <tr>\n",
       "      <th>costOfRevenue</th>\n",
       "      <td>3.358200e+10</td>\n",
       "    </tr>\n",
       "    <tr>\n",
       "      <th>discontinuedOperations</th>\n",
       "      <td>NaN</td>\n",
       "    </tr>\n",
       "    <tr>\n",
       "      <th>ebit</th>\n",
       "      <td>1.154400e+10</td>\n",
       "    </tr>\n",
       "    <tr>\n",
       "      <th>effectOfAccountingCharges</th>\n",
       "      <td>NaN</td>\n",
       "    </tr>\n",
       "    <tr>\n",
       "      <th>extraordinaryItems</th>\n",
       "      <td>NaN</td>\n",
       "    </tr>\n",
       "    <tr>\n",
       "      <th>grossProfit</th>\n",
       "      <td>2.022700e+10</td>\n",
       "    </tr>\n",
       "    <tr>\n",
       "      <th>incomeBeforeTax</th>\n",
       "      <td>1.191100e+10</td>\n",
       "    </tr>\n",
       "    <tr>\n",
       "      <th>incomeTaxExpense</th>\n",
       "      <td>1.867000e+09</td>\n",
       "    </tr>\n",
       "    <tr>\n",
       "      <th>interestExpense</th>\n",
       "      <td>-8.660000e+08</td>\n",
       "    </tr>\n",
       "    <tr>\n",
       "      <th>minorityInterest</th>\n",
       "      <td>NaN</td>\n",
       "    </tr>\n",
       "    <tr>\n",
       "      <th>netIncome</th>\n",
       "      <td>1.004400e+10</td>\n",
       "    </tr>\n",
       "    <tr>\n",
       "      <th>netIncomeApplicableToCommonShares</th>\n",
       "      <td>1.004400e+10</td>\n",
       "    </tr>\n",
       "    <tr>\n",
       "      <th>netIncomeFromContinuingOps</th>\n",
       "      <td>1.004400e+10</td>\n",
       "    </tr>\n",
       "    <tr>\n",
       "      <th>nonRecurring</th>\n",
       "      <td>NaN</td>\n",
       "    </tr>\n",
       "    <tr>\n",
       "      <th>operatingIncome</th>\n",
       "      <td>1.154400e+10</td>\n",
       "    </tr>\n",
       "    <tr>\n",
       "      <th>otherItems</th>\n",
       "      <td>NaN</td>\n",
       "    </tr>\n",
       "    <tr>\n",
       "      <th>otherOperatingExpenses</th>\n",
       "      <td>NaN</td>\n",
       "    </tr>\n",
       "    <tr>\n",
       "      <th>researchDevelopment</th>\n",
       "      <td>4.257000e+09</td>\n",
       "    </tr>\n",
       "    <tr>\n",
       "      <th>sellingGeneralAdministrative</th>\n",
       "      <td>4.426000e+09</td>\n",
       "    </tr>\n",
       "    <tr>\n",
       "      <th>totalOperatingExpenses</th>\n",
       "      <td>4.226500e+10</td>\n",
       "    </tr>\n",
       "    <tr>\n",
       "      <th>totalOtherIncomeExpenseNet</th>\n",
       "      <td>3.670000e+08</td>\n",
       "    </tr>\n",
       "    <tr>\n",
       "      <th>totalRevenue</th>\n",
       "      <td>5.380900e+10</td>\n",
       "    </tr>\n",
       "  </tbody>\n",
       "</table>\n",
       "</div>"
      ],
      "text/plain": [
       "                                     2019-06-29\n",
       "costOfRevenue                      3.358200e+10\n",
       "discontinuedOperations                      NaN\n",
       "ebit                               1.154400e+10\n",
       "effectOfAccountingCharges                   NaN\n",
       "extraordinaryItems                          NaN\n",
       "grossProfit                        2.022700e+10\n",
       "incomeBeforeTax                    1.191100e+10\n",
       "incomeTaxExpense                   1.867000e+09\n",
       "interestExpense                   -8.660000e+08\n",
       "minorityInterest                            NaN\n",
       "netIncome                          1.004400e+10\n",
       "netIncomeApplicableToCommonShares  1.004400e+10\n",
       "netIncomeFromContinuingOps         1.004400e+10\n",
       "nonRecurring                                NaN\n",
       "operatingIncome                    1.154400e+10\n",
       "otherItems                                  NaN\n",
       "otherOperatingExpenses                      NaN\n",
       "researchDevelopment                4.257000e+09\n",
       "sellingGeneralAdministrative       4.426000e+09\n",
       "totalOperatingExpenses             4.226500e+10\n",
       "totalOtherIncomeExpenseNet         3.670000e+08\n",
       "totalRevenue                       5.380900e+10"
      ]
     },
     "execution_count": 87,
     "metadata": {},
     "output_type": "execute_result"
    }
   ],
   "source": [
    "last_quarter_is = pd.DataFrame.from_dict(last_quart_is)\n",
    "last_quarter_is"
   ]
  },
  {
   "cell_type": "markdown",
   "metadata": {},
   "source": [
    "## We can create a function and apply it to whichever company we want!\n",
    "\n",
    "    - If one day you get a financial analyst job and you are lazy to compute the same stuff every time a company issues it's quarterly financial statements, you can be smart and impress your boss with great up-to-date Financial Statement Analysis.\n",
    "    \n",
    "    - If you have a company you can know how other comanies in your sector are performing each quarter. This can be very helpful to understand better your company and the situation of the market."
   ]
  },
  {
   "cell_type": "code",
   "execution_count": 88,
   "metadata": {},
   "outputs": [],
   "source": [
    "def roe(ticker):\n",
    "    \n",
    "    yahoo_financials = YahooFinancials(ticker)\n",
    "    b_s = yahoo_financials.get_financial_stmts('quarterly', 'balance')\n",
    "    b_s = json_normalize(b_s)\n",
    "    i_s = yahoo_financials.get_financial_stmts('quarterly', 'income')\n",
    "    i_s = json_normalize(i_s)\n",
    "\n",
    "    balance = pd.DataFrame.from_dict(b_s.loc[0][0][0])\n",
    "    income_s = pd.DataFrame.from_dict(i_s.loc[0][0][0])\n",
    "\n",
    "    roe = income_s.loc['netIncome'] / balance.loc['totalStockholderEquity']\n",
    "\n",
    "    return roe\n",
    "    "
   ]
  },
  {
   "cell_type": "code",
   "execution_count": 89,
   "metadata": {},
   "outputs": [
    {
     "data": {
      "text/plain": [
       "2019-08-31    0.148587\n",
       "dtype: float64"
      ]
     },
     "execution_count": 89,
     "metadata": {},
     "output_type": "execute_result"
    }
   ],
   "source": [
    "roe('NKE')"
   ]
  },
  {
   "cell_type": "markdown",
   "metadata": {},
   "source": [
    "We can compare a bunch of quarterly **ROE's (Return On Equity)**. And compare them with a function."
   ]
  },
  {
   "cell_type": "code",
   "execution_count": 90,
   "metadata": {},
   "outputs": [],
   "source": [
    "def comparable_roe(tickers):\n",
    "    all_roes = []\n",
    "    for t in tickers:\n",
    "    \n",
    "        yahoo_financials = YahooFinancials(t)\n",
    "        b_s = yahoo_financials.get_financial_stmts('quarterly', 'balance')\n",
    "        b_s = json_normalize(b_s)\n",
    "        i_s = yahoo_financials.get_financial_stmts('quarterly', 'income')\n",
    "        i_s = json_normalize(i_s)\n",
    "        \n",
    "        roes = []\n",
    "        for i in range(4):\n",
    "        \n",
    "            balance = pd.DataFrame.from_dict(b_s.loc[0][0][i])\n",
    "            income_s = pd.DataFrame.from_dict(i_s.loc[0][0][i])\n",
    "        \n",
    "            roe = income_s.loc['netIncome'] / balance.loc['totalStockholderEquity']\n",
    "            roes.append(float(roe))\n",
    "        \n",
    "        dates = list(pd.DataFrame.from_dict(i_s.loc[0][0]).columns)\n",
    "        frame = pd.DataFrame({'ticker':[t]*4,'roe':roes, 'date':dates})\n",
    "        \n",
    "        all_roes.append(frame)\n",
    "    \n",
    "    frame = pd.concat(all_roes)   \n",
    "    frame['date']=pd.to_datetime(frame['date']) \n",
    "       \n",
    "    ax = sns.lineplot(x=\"date\", y=\"roe\",\n",
    "                      hue=\"ticker\",\n",
    "                      data=frame)"
   ]
  },
  {
   "cell_type": "code",
   "execution_count": 93,
   "metadata": {},
   "outputs": [
    {
     "data": {
      "image/png": "[encoded data removed]",
      "text/plain": [
       "<Figure size 432x288 with 1 Axes>"
      ]
     },
     "metadata": {
      "needs_background": "light"
     },
     "output_type": "display_data"
    }
   ],
   "source": [
    "tickers = ['NKE','ADDYY','PUMSY']\n",
    "comparable_roe(tickers)"
   ]
  }
 ],
 "metadata": {
  "kernelspec": {
   "display_name": "Python 3",
   "language": "python",
   "name": "python3"
  },
  "language_info": {
   "codemirror_mode": {
    "name": "ipython",
    "version": 3
   },
   "file_extension": ".py",
   "mimetype": "text/x-python",
   "name": "python",
   "nbconvert_exporter": "python",
   "pygments_lexer": "ipython3",
   "version": "3.6.8"
  }
 },
 "nbformat": 4,
 "nbformat_minor": 1
}
