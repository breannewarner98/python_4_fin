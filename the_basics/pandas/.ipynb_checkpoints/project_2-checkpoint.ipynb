{
 "cells": [
  {
   "cell_type": "markdown",
   "metadata": {},
   "source": [
    "# Class Project 2"
   ]
  },
  {
   "cell_type": "markdown",
   "metadata": {},
   "source": [
    "## Global Commodity Trade Statistics\n",
    "10/03 Pandas 2"
   ]
  },
  {
   "cell_type": "markdown",
   "metadata": {},
   "source": [
    " ![alt text]( commodity.jpg \"Logo Title Text 1\")"
   ]
  },
  {
   "cell_type": "markdown",
   "metadata": {},
   "source": [
    "\n",
    "Are you curious about fertilizer use in developing economies? The growth of Chinese steel exports? American chocolate consumption? Which parts of the world still use typewriters? You'll find all of that and more here. This dataset covers import and export volumes for 5,000 commodities across most countries on Earth over the last 30 years.\n",
    "\n",
    "**Acknowledgements**\n",
    "\n",
    "This dataset was kindly published by the United Nations Statistics Division on the UNData site. You can find the original dataset here.\n",
    "\n",
    "**Inspiration**\n",
    "\n",
    "Some of these numbers are more trustworthy than others. I'd expect that British tea imports are fairly accurate, but doubt that Afghanistan exported exactly 51 sheep in 2016. Can you identify which nations appear to have the most trustworthy data? Which industries?\n",
    "License\n",
    "Per the UNData terms of use: all data and metadata provided on UNdata’s website are available free of charge and may be copied freely, duplicated and further distributed provided that UNdata is cited as the reference."
   ]
  },
  {
   "cell_type": "markdown",
   "metadata": {},
   "source": [
    "## Instructions"
   ]
  },
  {
   "cell_type": "markdown",
   "metadata": {},
   "source": [
    "**Basic Stuff**\n",
    "\n",
    "- Download Dataset from this link: https://www.dropbox.com/s/cngszszrzsz9cgx/commodity_trade_statistics_data.csv?dl=0\n",
    "- Import \"commodity_trade_statistics_data.csv\", name it *trade*.\n",
    "\n",
    "I want you to understand how to do this process, including how to manage *filepath*\n",
    "\n",
    "- How many columns and rows are in the dataset?\n",
    "- Print the first 10 values of the dataset\n",
    "- How many countries are represented and which? (*unique*, *nunique*)\n",
    "\n",
    "**Slicing**\n",
    "\n",
    "- Using loc get only the information of China within the column *country_or_area* and store it in a new DataFrame called china\n",
    "- How many rows of information has it? \n",
    "- Combining two conditions, make a new dataframe from china of 'Horses, live pure-bred breeding' exported from china. Call it *china_horses_exp*\n",
    "- How many registers are there\n",
    "- How many horses are involved in those transactions?\n",
    "\n",
    "\n",
    "\n",
    "**CHALLENGE!!**\n",
    "\n",
    "\n",
    "Apply a function to *china_horses_exp* using lambda that transforms horses weight_kg to lb.\n",
    "\n",
    "\n",
    "    \n",
    "    "
   ]
  }
 ],
 "metadata": {
  "kernelspec": {
   "display_name": "Python 3",
   "language": "python",
   "name": "python3"
  },
  "language_info": {
   "codemirror_mode": {
    "name": "ipython",
    "version": 3
   },
   "file_extension": ".py",
   "mimetype": "text/x-python",
   "name": "python",
   "nbconvert_exporter": "python",
   "pygments_lexer": "ipython3",
   "version": "3.6.8"
  }
 },
 "nbformat": 4,
 "nbformat_minor": 2
}
