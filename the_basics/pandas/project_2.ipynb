{
 "cells": [
  {
   "cell_type": "markdown",
   "metadata": {},
   "source": [
    "# Class Project 2"
   ]
  },
  {
   "cell_type": "markdown",
   "metadata": {},
   "source": [
    "## Global Commodity Trade Statistics\n",
    "10/03 Pandas 2"
   ]
  },
  {
   "cell_type": "markdown",
   "metadata": {},
   "source": [
    " ![alt text]( commodity.jpg \"Logo Title Text 1\")"
   ]
  },
  {
   "cell_type": "markdown",
   "metadata": {},
   "source": [
    "\n",
    "Are you curious about fertilizer use in developing economies? The growth of Chinese steel exports? American chocolate consumption? Which parts of the world still use typewriters? You'll find all of that and more here. This dataset covers import and export volumes for 5,000 commodities across most countries on Earth over the last 30 years.\n",
    "\n",
    "**Acknowledgements**\n",
    "\n",
    "This dataset was kindly published by the United Nations Statistics Division on the UNData site. You can find the original dataset here.\n",
    "\n",
    "**Inspiration**\n",
    "\n",
    "Some of these numbers are more trustworthy than others. I'd expect that British tea imports are fairly accurate, but doubt that Afghanistan exported exactly 51 sheep in 2016. Can you identify which nations appear to have the most trustworthy data? Which industries?\n",
    "License\n",
    "Per the UNData terms of use: all data and metadata provided on UNdata’s website are available free of charge and may be copied freely, duplicated and further distributed provided that UNdata is cited as the reference."
   ]
  },
  {
   "cell_type": "markdown",
   "metadata": {},
   "source": [
    "## Instructions"
   ]
  },
  {
   "cell_type": "markdown",
   "metadata": {},
   "source": [
    "**Basic Stuff**\n",
    "\n",
    "- Download Dataset from this link: https://www.dropbox.com/s/cngszszrzsz9cgx/commodity_trade_statistics_data.csv?dl=0\n",
    "- Import \"commodity_trade_statistics_data.csv\", name it *trade*.\n",
    "\n",
    "I want you to understand how to do this process, including how to manage *filepath*\n",
    "\n",
    "- How many columns and rows are in the dataset?\n",
    "- Print the first 10 values of the dataset\n",
    "- How many countries are represented and which? (*unique*, *nunique*)\n",
    "\n",
    "**Slicing**\n",
    "\n",
    "- Using loc get only the information of China within the column *country_or_area* and store it in a new DataFrame called china\n",
    "- How many rows of information has it? \n",
    "- Combining two conditions, make a new dataframe from china of 'Horses, live pure-bred breeding' exported from china. Call it *china_horses_exp*\n",
    "- How many registers are there\n",
    "- How many horses are involved in those transactions?\n",
    "\n",
    "\n",
    "\n",
    "**CHALLENGE!!**\n",
    "\n",
    "\n",
    "Apply a function to *china_horses_exp* using lambda that transforms horses weight_kg to lb.\n",
    "\n",
    "\n",
    "    \n",
    "    "
   ]
  },
  {
   "cell_type": "code",
   "execution_count": 31,
   "metadata": {},
   "outputs": [],
   "source": [
    "china =trade.loc[trade['country_or_area'] == \"China\"]"
   ]
  },
  {
   "cell_type": "code",
   "execution_count": 26,
   "metadata": {},
   "outputs": [
    {
     "data": {
      "text/plain": [
       "209"
      ]
     },
     "execution_count": 26,
     "metadata": {},
     "output_type": "execute_result"
    }
   ],
   "source": [
    "trade.country_or_area.nunique()"
   ]
  },
  {
   "cell_type": "code",
   "execution_count": 32,
   "metadata": {},
   "outputs": [
    {
     "data": {
      "text/plain": [
       "array(['Horses, live pure-bred breeding',\n",
       "       'Horses, live except pure-bred breeding',\n",
       "       'Asses, mules and hinnies, live', ...,\n",
       "       'Antiques older than one hundred years',\n",
       "       'Commodities not specified according to kind', 'ALL COMMODITIES'],\n",
       "      dtype=object)"
      ]
     },
     "execution_count": 32,
     "metadata": {},
     "output_type": "execute_result"
    }
   ],
   "source": [
    "china.commodity.unique()"
   ]
  },
  {
   "cell_type": "code",
   "execution_count": 41,
   "metadata": {},
   "outputs": [],
   "source": [
    "horses_china = china.loc[(china['commodity'] == 'Horses, live pure-bred breeding') & (china['flow'] == 'Export')]"
   ]
  },
  {
   "cell_type": "code",
   "execution_count": 42,
   "metadata": {},
   "outputs": [],
   "source": [
    "myfunction = lambda x :x*2.2"
   ]
  },
  {
   "cell_type": "code",
   "execution_count": 43,
   "metadata": {},
   "outputs": [
    {
     "data": {
      "text/plain": [
       "9811      6160.0\n",
       "9837      4620.0\n",
       "9859     15840.0\n",
       "9882     14399.0\n",
       "9942         NaN\n",
       "10053      369.6\n",
       "10077      686.4\n",
       "Name: weight_kg, dtype: float64"
      ]
     },
     "execution_count": 43,
     "metadata": {},
     "output_type": "execute_result"
    }
   ],
   "source": [
    "horses_china['weight_kg'].apply(myfunction)"
   ]
  },
  {
   "cell_type": "code",
   "execution_count": 1,
   "metadata": {},
   "outputs": [
    {
     "name": "stderr",
     "output_type": "stream",
     "text": [
      "/usr/lib/python3.6/importlib/_bootstrap.py:219: RuntimeWarning: numpy.dtype size changed, may indicate binary incompatibility. Expected 96, got 88\n",
      "  return f(*args, **kwds)\n",
      "/usr/lib/python3.6/importlib/_bootstrap.py:219: RuntimeWarning: numpy.dtype size changed, may indicate binary incompatibility. Expected 96, got 88\n",
      "  return f(*args, **kwds)\n"
     ]
    }
   ],
   "source": [
    "import pandas as pd\n",
    "import numpy as np"
   ]
  },
  {
   "cell_type": "code",
   "execution_count": 16,
   "metadata": {},
   "outputs": [],
   "source": [
    "import os\n",
    "path = '/home/franciscoar/Documents/'\n",
    "os.chdir(path)"
   ]
  },
  {
   "cell_type": "code",
   "execution_count": 8,
   "metadata": {},
   "outputs": [
    {
     "data": {
      "text/plain": [
       "'/home/franciscoar/Documents'"
      ]
     },
     "execution_count": 8,
     "metadata": {},
     "output_type": "execute_result"
    }
   ],
   "source": [
    "os.getcwd()\n"
   ]
  },
  {
   "cell_type": "code",
   "execution_count": 11,
   "metadata": {},
   "outputs": [
    {
     "name": "stderr",
     "output_type": "stream",
     "text": [
      "/usr/local/lib/python3.6/dist-packages/IPython/core/interactiveshell.py:3020: DtypeWarning: Columns (2) have mixed types. Specify dtype option on import or set low_memory=False.\n",
      "  interactivity=interactivity, compiler=compiler, result=result)\n"
     ]
    }
   ],
   "source": [
    "# 1\n",
    "trade = pd.read_csv('commodity_trade_statistics_data.csv')"
   ]
  },
  {
   "cell_type": "code",
   "execution_count": 12,
   "metadata": {},
   "outputs": [
    {
     "data": {
      "text/plain": [
       "(8225871, 10)"
      ]
     },
     "execution_count": 12,
     "metadata": {},
     "output_type": "execute_result"
    }
   ],
   "source": [
    "#2\n",
    "trade.shape"
   ]
  },
  {
   "cell_type": "code",
   "execution_count": 18,
   "metadata": {},
   "outputs": [
    {
     "name": "stdout",
     "output_type": "stream",
     "text": [
      "<class 'pandas.core.frame.DataFrame'>\n",
      "RangeIndex: 8225871 entries, 0 to 8225870\n",
      "Data columns (total 10 columns):\n",
      "country_or_area    object\n",
      "year               int64\n",
      "comm_code          object\n",
      "commodity          object\n",
      "flow               object\n",
      "trade_usd          int64\n",
      "weight_kg          float64\n",
      "quantity_name      object\n",
      "quantity           float64\n",
      "category           object\n",
      "dtypes: float64(2), int64(2), object(6)\n",
      "memory usage: 3.6 GB\n"
     ]
    }
   ],
   "source": [
    "trade.info(memory_usage='deep')"
   ]
  },
  {
   "cell_type": "code",
   "execution_count": 19,
   "metadata": {},
   "outputs": [
    {
     "data": {
      "text/html": [
       "<div>\n",
       "<style scoped>\n",
       "    .dataframe tbody tr th:only-of-type {\n",
       "        vertical-align: middle;\n",
       "    }\n",
       "\n",
       "    .dataframe tbody tr th {\n",
       "        vertical-align: top;\n",
       "    }\n",
       "\n",
       "    .dataframe thead th {\n",
       "        text-align: right;\n",
       "    }\n",
       "</style>\n",
       "<table border=\"1\" class=\"dataframe\">\n",
       "  <thead>\n",
       "    <tr style=\"text-align: right;\">\n",
       "      <th></th>\n",
       "      <th>country_or_area</th>\n",
       "      <th>year</th>\n",
       "      <th>comm_code</th>\n",
       "      <th>commodity</th>\n",
       "      <th>flow</th>\n",
       "      <th>trade_usd</th>\n",
       "      <th>weight_kg</th>\n",
       "      <th>quantity_name</th>\n",
       "      <th>quantity</th>\n",
       "      <th>category</th>\n",
       "    </tr>\n",
       "  </thead>\n",
       "  <tbody>\n",
       "    <tr>\n",
       "      <th>0</th>\n",
       "      <td>Afghanistan</td>\n",
       "      <td>2016</td>\n",
       "      <td>10410</td>\n",
       "      <td>Sheep, live</td>\n",
       "      <td>Export</td>\n",
       "      <td>6088</td>\n",
       "      <td>2339.0</td>\n",
       "      <td>Number of items</td>\n",
       "      <td>51.0</td>\n",
       "      <td>01_live_animals</td>\n",
       "    </tr>\n",
       "    <tr>\n",
       "      <th>1</th>\n",
       "      <td>Afghanistan</td>\n",
       "      <td>2016</td>\n",
       "      <td>10420</td>\n",
       "      <td>Goats, live</td>\n",
       "      <td>Export</td>\n",
       "      <td>3958</td>\n",
       "      <td>984.0</td>\n",
       "      <td>Number of items</td>\n",
       "      <td>53.0</td>\n",
       "      <td>01_live_animals</td>\n",
       "    </tr>\n",
       "    <tr>\n",
       "      <th>2</th>\n",
       "      <td>Afghanistan</td>\n",
       "      <td>2008</td>\n",
       "      <td>10210</td>\n",
       "      <td>Bovine animals, live pure-bred breeding</td>\n",
       "      <td>Import</td>\n",
       "      <td>1026804</td>\n",
       "      <td>272.0</td>\n",
       "      <td>Number of items</td>\n",
       "      <td>3769.0</td>\n",
       "      <td>01_live_animals</td>\n",
       "    </tr>\n",
       "    <tr>\n",
       "      <th>3</th>\n",
       "      <td>Albania</td>\n",
       "      <td>2016</td>\n",
       "      <td>10290</td>\n",
       "      <td>Bovine animals, live, except pure-bred breeding</td>\n",
       "      <td>Import</td>\n",
       "      <td>2414533</td>\n",
       "      <td>1114023.0</td>\n",
       "      <td>Number of items</td>\n",
       "      <td>6853.0</td>\n",
       "      <td>01_live_animals</td>\n",
       "    </tr>\n",
       "    <tr>\n",
       "      <th>4</th>\n",
       "      <td>Albania</td>\n",
       "      <td>2016</td>\n",
       "      <td>10392</td>\n",
       "      <td>Swine, live except pure-bred breeding &gt; 50 kg</td>\n",
       "      <td>Import</td>\n",
       "      <td>14265937</td>\n",
       "      <td>9484953.0</td>\n",
       "      <td>Number of items</td>\n",
       "      <td>96040.0</td>\n",
       "      <td>01_live_animals</td>\n",
       "    </tr>\n",
       "    <tr>\n",
       "      <th>5</th>\n",
       "      <td>Albania</td>\n",
       "      <td>2016</td>\n",
       "      <td>10511</td>\n",
       "      <td>Fowls, live domestic &lt; 185 grams</td>\n",
       "      <td>Import</td>\n",
       "      <td>2671732</td>\n",
       "      <td>254652.0</td>\n",
       "      <td>Number of items</td>\n",
       "      <td>5629138.0</td>\n",
       "      <td>01_live_animals</td>\n",
       "    </tr>\n",
       "    <tr>\n",
       "      <th>6</th>\n",
       "      <td>Albania</td>\n",
       "      <td>2016</td>\n",
       "      <td>10511</td>\n",
       "      <td>Fowls, live domestic &lt; 185 grams</td>\n",
       "      <td>Export</td>\n",
       "      <td>87581</td>\n",
       "      <td>5320.0</td>\n",
       "      <td>Number of items</td>\n",
       "      <td>115180.0</td>\n",
       "      <td>01_live_animals</td>\n",
       "    </tr>\n",
       "    <tr>\n",
       "      <th>7</th>\n",
       "      <td>Albania</td>\n",
       "      <td>2016</td>\n",
       "      <td>10519</td>\n",
       "      <td>Poultry, live except domestic fowls, &lt; 185 grams</td>\n",
       "      <td>Import</td>\n",
       "      <td>26485</td>\n",
       "      <td>2908.0</td>\n",
       "      <td>Number of items</td>\n",
       "      <td>64000.0</td>\n",
       "      <td>01_live_animals</td>\n",
       "    </tr>\n",
       "    <tr>\n",
       "      <th>8</th>\n",
       "      <td>Albania</td>\n",
       "      <td>2016</td>\n",
       "      <td>10591</td>\n",
       "      <td>Fowls, live domestic &gt; 185 grams</td>\n",
       "      <td>Import</td>\n",
       "      <td>2421513</td>\n",
       "      <td>1926850.0</td>\n",
       "      <td>Number of items</td>\n",
       "      <td>1006990.0</td>\n",
       "      <td>01_live_animals</td>\n",
       "    </tr>\n",
       "    <tr>\n",
       "      <th>9</th>\n",
       "      <td>Albania</td>\n",
       "      <td>2016</td>\n",
       "      <td>10599</td>\n",
       "      <td>Poultry, live except domestic fowls, &gt; 185 grams</td>\n",
       "      <td>Import</td>\n",
       "      <td>251318</td>\n",
       "      <td>211177.0</td>\n",
       "      <td>Number of items</td>\n",
       "      <td>205124.0</td>\n",
       "      <td>01_live_animals</td>\n",
       "    </tr>\n",
       "  </tbody>\n",
       "</table>\n",
       "</div>"
      ],
      "text/plain": [
       "  country_or_area  year comm_code  \\\n",
       "0     Afghanistan  2016     10410   \n",
       "1     Afghanistan  2016     10420   \n",
       "2     Afghanistan  2008     10210   \n",
       "3         Albania  2016     10290   \n",
       "4         Albania  2016     10392   \n",
       "5         Albania  2016     10511   \n",
       "6         Albania  2016     10511   \n",
       "7         Albania  2016     10519   \n",
       "8         Albania  2016     10591   \n",
       "9         Albania  2016     10599   \n",
       "\n",
       "                                          commodity    flow  trade_usd  \\\n",
       "0                                       Sheep, live  Export       6088   \n",
       "1                                       Goats, live  Export       3958   \n",
       "2           Bovine animals, live pure-bred breeding  Import    1026804   \n",
       "3   Bovine animals, live, except pure-bred breeding  Import    2414533   \n",
       "4     Swine, live except pure-bred breeding > 50 kg  Import   14265937   \n",
       "5                  Fowls, live domestic < 185 grams  Import    2671732   \n",
       "6                  Fowls, live domestic < 185 grams  Export      87581   \n",
       "7  Poultry, live except domestic fowls, < 185 grams  Import      26485   \n",
       "8                  Fowls, live domestic > 185 grams  Import    2421513   \n",
       "9  Poultry, live except domestic fowls, > 185 grams  Import     251318   \n",
       "\n",
       "   weight_kg    quantity_name   quantity         category  \n",
       "0     2339.0  Number of items       51.0  01_live_animals  \n",
       "1      984.0  Number of items       53.0  01_live_animals  \n",
       "2      272.0  Number of items     3769.0  01_live_animals  \n",
       "3  1114023.0  Number of items     6853.0  01_live_animals  \n",
       "4  9484953.0  Number of items    96040.0  01_live_animals  \n",
       "5   254652.0  Number of items  5629138.0  01_live_animals  \n",
       "6     5320.0  Number of items   115180.0  01_live_animals  \n",
       "7     2908.0  Number of items    64000.0  01_live_animals  \n",
       "8  1926850.0  Number of items  1006990.0  01_live_animals  \n",
       "9   211177.0  Number of items   205124.0  01_live_animals  "
      ]
     },
     "execution_count": 19,
     "metadata": {},
     "output_type": "execute_result"
    }
   ],
   "source": [
    "trade.head(10)"
   ]
  }
 ],
 "metadata": {
  "kernelspec": {
   "display_name": "Python 3",
   "language": "python",
   "name": "python3"
  },
  "language_info": {
   "codemirror_mode": {
    "name": "ipython",
    "version": 3
   },
   "file_extension": ".py",
   "mimetype": "text/x-python",
   "name": "python",
   "nbconvert_exporter": "python",
   "pygments_lexer": "ipython3",
   "version": "3.6.8"
  }
 },
 "nbformat": 4,
 "nbformat_minor": 2
}
