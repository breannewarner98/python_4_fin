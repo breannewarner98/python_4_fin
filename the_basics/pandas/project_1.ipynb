{
 "cells": [
  {
   "cell_type": "markdown",
   "metadata": {},
   "source": [
    "# Class Project"
   ]
  },
  {
   "cell_type": "markdown",
   "metadata": {},
   "source": [
    "## 9/26 Pandas 1"
   ]
  },
  {
   "cell_type": "markdown",
   "metadata": {},
   "source": [
    " ![alt text]( boston.jpg \"Logo Title Text 1\")"
   ]
  },
  {
   "cell_type": "markdown",
   "metadata": {},
   "source": [
    "The dataset for this project originates from the UCI Machine Learning Repository. The Boston housing data was collected in 1978 and each of the 506 entries represent aggregated data about 14 features for homes from various suburbs in Boston, Massachusetts."
   ]
  },
  {
   "cell_type": "markdown",
   "metadata": {},
   "source": [
    "- 'RM' is the average number of rooms among homes in the neighborhood.\n",
    "- 'LSTAT' is the percentage of homeowners in the neighborhood considered \"lower class (working poor).\n",
    "- 'PTRATIO' is the ratio of students to teachers in primary and secondary schools in the neighborhood."
   ]
  },
  {
   "cell_type": "markdown",
   "metadata": {},
   "source": [
    "## Instructions"
   ]
  },
  {
   "cell_type": "markdown",
   "metadata": {},
   "source": [
    "- Import \"housing.csv\", name it boston.\n",
    "- How many columns and rows are in the dataset?\n",
    "- Print the first 100 values of the dataset\n",
    "- Describe with summary statistics the information contained in boston:\n",
    "    - What is the minimum price of the set of houses?\n",
    "    - What is the average price of the houses?\n",
    "    - What is the correlation among the variables in the dataset?\n",
    "- How many nulls are there per each column?\n",
    "- What are the data types in boston dataset?\n",
    "- What is the price of the 134th house listed?\n",
    "- Create a new dataframe called no_price where you include all columns except 'MEDV'\n",
    "\n",
    "**CHALLENGE!!**\n",
    "\n",
    "\n",
    "Create a loop that:\n",
    "- Creates a list where the generated values are = RM x LSTAT x PTRATIO\t\n",
    "- Call this new list \"PRED_PRICE\"\n",
    "- Add this list as a new column to boston dataset\n",
    "    \n",
    "    "
   ]
  }
 ],
 "metadata": {
  "kernelspec": {
   "display_name": "Python 3",
   "language": "python",
   "name": "python3"
  },
  "language_info": {
   "codemirror_mode": {
    "name": "ipython",
    "version": 3
   },
   "file_extension": ".py",
   "mimetype": "text/x-python",
   "name": "python",
   "nbconvert_exporter": "python",
   "pygments_lexer": "ipython3",
   "version": "3.6.8"
  }
 },
 "nbformat": 4,
 "nbformat_minor": 2
}
