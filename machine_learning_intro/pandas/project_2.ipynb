{
 "cells": [
  {
   "cell_type": "markdown",
   "metadata": {},
   "source": [
    "# Project 2"
   ]
  },
  {
   "cell_type": "markdown",
   "metadata": {},
   "source": [
    "## EDA "
   ]
  },
  {
   "cell_type": "markdown",
   "metadata": {},
   "source": [
    "<img src=\"media/gplay.jpg\" width=\"600\">"
   ]
  },
  {
   "cell_type": "markdown",
   "metadata": {},
   "source": [
    "## Instructions"
   ]
  },
  {
   "cell_type": "markdown",
   "metadata": {},
   "source": [
    "Let's assume you decide to develop an App or you are hired as a consultant to develop an App.\n",
    "\n",
    "**1. Ask yourself the following questions: (Use values that already exist in the dataset as answers besides name)**\n",
    "\n",
    "    - What category of App would you choose?\n",
    "    - What Name?\n",
    "    - Free / Charge\n",
    "    - When would you release it? (please think about a realistic year)\n",
    "    - Towards whom you'll direct it (Content Rating)?\n",
    "    - What will the Genre be? (Genres column)\n",
    "    - What will the Content Rating be?\n",
    "    \n",
    "This answers will be very useful for the following sessions. They will help us create an \"observation\" whose variables will be estimated or predicted. \n",
    "\n",
    "**2. Based on the Exploratory Analysis we just did, try to estimate the following variables.**\n",
    "\n",
    "    - How much should you charge (If that's your plan)\n",
    "    - What will the number of installs be?"
   ]
  }
 ],
 "metadata": {
  "kernelspec": {
   "display_name": "Python 3",
   "language": "python",
   "name": "python3"
  },
  "language_info": {
   "codemirror_mode": {
    "name": "ipython",
    "version": 3
   },
   "file_extension": ".py",
   "mimetype": "text/x-python",
   "name": "python",
   "nbconvert_exporter": "python",
   "pygments_lexer": "ipython3",
   "version": "3.6.9"
  }
 },
 "nbformat": 4,
 "nbformat_minor": 2
}
