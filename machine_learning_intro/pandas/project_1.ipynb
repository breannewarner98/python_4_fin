{
 "cells": [
  {
   "cell_type": "markdown",
   "metadata": {},
   "source": [
    "# Project 1"
   ]
  },
  {
   "cell_type": "markdown",
   "metadata": {},
   "source": [
    "## 9/26 Pandas 1"
   ]
  },
  {
   "cell_type": "markdown",
   "metadata": {},
   "source": [
    " ![alt text](media/apps1.png)"
   ]
  },
  {
   "cell_type": "markdown",
   "metadata": {},
   "source": [
    "We will begin using our **Google Play Store Apps** Dataset.\n",
    "\n",
    "* Remember to download the csv files located [here](https://www.dropbox.com/s/w33rwi2ei9q4h3w/google-play-store-apps.zip?dl=0)"
   ]
  },
  {
   "cell_type": "markdown",
   "metadata": {},
   "source": [
    "## Instructions"
   ]
  },
  {
   "cell_type": "markdown",
   "metadata": {},
   "source": [
    "- Import \"googleplaystore.csv\", name it apps.\n",
    "- How many columns and rows are in the dataset?\n",
    "- Print the first 10 values of the dataset\n",
    "- Describe with summary statistics the information contained in apps:\n",
    "    - What is the mean of the ratings?\n",
    "    - What is the maximum price of the apps? Is this value making sense?\n",
    "    - What type of data is the column price? Is it a float?\n",
    "    - What is the correlation among the variables in the dataset?\n",
    "- How many nulls are there per each column?\n",
    "    - Why is it that we see zeros in the column of Price but when we count the quantity of zeros per column it says Price = 0?\n",
    "\n",
    "- What is the \"Current Ver\" of the 1234th app on the list?    "
   ]
  },
  {
   "cell_type": "markdown",
   "metadata": {},
   "source": [
    "## Step 2"
   ]
  },
  {
   "cell_type": "markdown",
   "metadata": {},
   "source": [
    "I'll explain why some values doesn't make sense and how to fix them"
   ]
  }
 ],
 "metadata": {
  "kernelspec": {
   "display_name": "Python 3",
   "language": "python",
   "name": "python3"
  },
  "language_info": {
   "codemirror_mode": {
    "name": "ipython",
    "version": 3
   },
   "file_extension": ".py",
   "mimetype": "text/x-python",
   "name": "python",
   "nbconvert_exporter": "python",
   "pygments_lexer": "ipython3",
   "version": "3.6.9"
  }
 },
 "nbformat": 4,
 "nbformat_minor": 2
}
