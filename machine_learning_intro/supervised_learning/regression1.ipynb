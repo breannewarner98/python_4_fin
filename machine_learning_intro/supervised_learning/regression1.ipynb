{
 "cells": [
  {
   "cell_type": "markdown",
   "metadata": {},
   "source": [
    "# Regression"
   ]
  },
  {
   "cell_type": "markdown",
   "metadata": {},
   "source": [
    "## Linear Regression"
   ]
  },
  {
   "cell_type": "markdown",
   "metadata": {},
   "source": [
    "<img src=\"media/linear.jpg\" width=\"600\">"
   ]
  },
  {
   "cell_type": "markdown",
   "metadata": {},
   "source": [
    "## Definifion\n",
    "\n",
    "We consider a regression problem with entries $X=(X_{1},X_{2},...,X_{p})$ and responde $Y$. One of the simplest ways to predict $Y$ as a function of the $X_{j}$'s is through a weighted sum of the values of $X_{j}$'s using a function with the form: $$f_{\\beta}(X)=\\beta_{1}X_{1}+\\beta_{2}X_{2}+...+\\beta_{p}X_{p}$$\n",
    "\n",
    "We want to find apropriate values for the $\\beta$'s given a train sample $\\ell$ $$\\hat{f_{\\beta}}(X)=\\beta_{1} X_{1}+\\beta_{2}X_{2}+...+\\beta_{p}X_{p}$$\n",
    "\n",
    "And we'll use that function $\\hat{f}$ to meke predictions"
   ]
  },
  {
   "cell_type": "markdown",
   "metadata": {},
   "source": [
    "## Example \n",
    "\n",
    "Let's use our Google Store Data\n",
    "Remember to [download the Dataset](https://www.dropbox.com/sh/fhk309b9f1c5568/AACQOyCYzQT3DxFZCieDW_ida?dl=0) **'apps_clean.csv'** which is the information we already cleaned and analyzed."
   ]
  },
  {
   "cell_type": "code",
   "execution_count": 1,
   "metadata": {},
   "outputs": [],
   "source": [
    "import os"
   ]
  },
  {
   "cell_type": "code",
   "execution_count": 3,
   "metadata": {},
   "outputs": [],
   "source": [
    "os.getcwd()\n",
    "os.chdir('/home/franciscoar/Documents')"
   ]
  },
  {
   "cell_type": "markdown",
   "metadata": {},
   "source": [
    "## One-Hot Encoding"
   ]
  }
 ],
 "metadata": {
  "kernelspec": {
   "display_name": "Python 3",
   "language": "python",
   "name": "python3"
  },
  "language_info": {
   "codemirror_mode": {
    "name": "ipython",
    "version": 3
   },
   "file_extension": ".py",
   "mimetype": "text/x-python",
   "name": "python",
   "nbconvert_exporter": "python",
   "pygments_lexer": "ipython3",
   "version": "3.6.9"
  }
 },
 "nbformat": 4,
 "nbformat_minor": 2
}
