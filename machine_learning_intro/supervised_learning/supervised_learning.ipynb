{
 "cells": [
  {
   "cell_type": "markdown",
   "metadata": {},
   "source": [
    "# Supervised Learning"
   ]
  },
  {
   "cell_type": "markdown",
   "metadata": {},
   "source": [
    "<img src=\"media/supervised.png\" width=\"600\">"
   ]
  },
  {
   "cell_type": "markdown",
   "metadata": {},
   "source": [
    "# Supervised Learning \n",
    "\n",
    "Building a model or algorithm to predict or estimate a certain target or output variable from some input variables."
   ]
  },
  {
   "cell_type": "markdown",
   "metadata": {},
   "source": [
    "<img src=\"media/cat1.jpg\" width=\"700\">"
   ]
  },
  {
   "cell_type": "markdown",
   "metadata": {},
   "source": [
    "Predicting and estimating, in this context, refer to similar things. **Predicting** is generally used when it comes to variables that are not observable now, but in the future, and **estimate** when we are interested in current variables that we cannot observe now because of high costs or because of the nature of the phenomenon."
   ]
  },
  {
   "cell_type": "markdown",
   "metadata": {},
   "source": [
    "For example, to identify customers at high risk of credit card default, we use historical data of customers who have paid and have not paid. With this data we train an algorithm to detect clients with high risk of default in advance.\n",
    "\n",
    "We usually divide supervised learning problems into two types, depending on the output variables:\n",
    "\n",
    "* **Regression problems:** when the output is a numerical variable. The example of income estimation is a regression problem\n",
    "* **Classification problems:** when the output is a categorical variable. The example of handwritten digit "
   ]
  },
  {
   "cell_type": "markdown",
   "metadata": {},
   "source": [
    "<img src=\"media/Classification-vs-Regression.png\" width=\"700\">"
   ]
  },
  {
   "cell_type": "markdown",
   "metadata": {},
   "source": [
    "## 1. Regression Problems\n",
    "\n",
    "Prediction of numeric variables"
   ]
  },
  {
   "cell_type": "markdown",
   "metadata": {},
   "source": [
    "### Data Generating Process\n",
    "\n",
    "To understand what we are trying to do, we will think in terms of **probabilistic models** that generate the data. The idea is that these represent the processes that generate the data or observations.\n",
    "\n",
    "If $Y$ is a reponse we want to predict, and $X$ is an entry we want to use to predict $Y$, we consider that the random variables $Y$ and $X$ are related in the following way:\n",
    "\n",
    "$$Y=f(X)+\\epsilon$$\n",
    "\n",
    "Where $\\epsilon$ is a random error independent from $X$, and that has an expected value $E(\\epsilon)=0$.\n",
    "\n",
    "* Where $f$ expresses the sistematic relation between $Y$ and $X$: for every possible value of $X$, the contribution of $X$ to $Y$ is $f(X)$.\n",
    "* But $X$ **is not determining** $Y$. That's why we add a random error $\\epsilon$ with mean of zero (if the mean is not equal to zero, then we could add a constant to $f$), that doesn't contain information about $X$ (independent from $X$).\n",
    "* And $\\epsilon$ represents, for example, the efect of variables that we haven't measured or random processes that determine the response."
   ]
  },
  {
   "cell_type": "markdown",
   "metadata": {},
   "source": [
    "### Example\n",
    "\n",
    "Simulate this to understand it better"
   ]
  },
  {
   "cell_type": "code",
   "execution_count": 2,
   "metadata": {},
   "outputs": [
    {
     "name": "stderr",
     "output_type": "stream",
     "text": [
      "/usr/lib/python3.6/importlib/_bootstrap.py:219: RuntimeWarning: numpy.dtype size changed, may indicate binary incompatibility. Expected 96, got 88\n",
      "  return f(*args, **kwds)\n",
      "/usr/lib/python3.6/importlib/_bootstrap.py:219: RuntimeWarning: numpy.dtype size changed, may indicate binary incompatibility. Expected 96, got 88\n",
      "  return f(*args, **kwds)\n"
     ]
    }
   ],
   "source": [
    "import pandas as pd\n",
    "import numpy as np\n",
    "import seaborn as sns\n",
    "import matplotlib.pyplot as plt\n",
    "import statistics"
   ]
  },
  {
   "cell_type": "markdown",
   "metadata": {},
   "source": [
    "Let's suppose that $X$ is the amount of study of any person and $Y$ is the monthly payment received. These are the years of study of 8 people"
   ]
  },
  {
   "cell_type": "code",
   "execution_count": 3,
   "metadata": {},
   "outputs": [],
   "source": [
    "x = [1,7,10,0,0,5,9,13,2,4,17,18,1,2]"
   ]
  },
  {
   "cell_type": "markdown",
   "metadata": {},
   "source": [
    "Now we say that the relation of $Y$ from $X$ is given by $Y = f(x)+\\epsilon$, an $f$ function that we don't know"
   ]
  },
  {
   "cell_type": "code",
   "execution_count": 4,
   "metadata": {},
   "outputs": [],
   "source": [
    "def f(x):\n",
    "    if x<10:\n",
    "        return 1000*x**0.5\n",
    "    else:\n",
    "        return 1000*10**0.5"
   ]
  },
  {
   "cell_type": "markdown",
   "metadata": {},
   "source": [
    "On the real life, income is not only determined by the amount of years of study. Let's suppose there are other aditional variables that randomly affect $f(X)$. So the values we observe of $Y$ are given by $Y=f(X)+\\epsilon$."
   ]
  },
  {
   "cell_type": "code",
   "execution_count": 5,
   "metadata": {},
   "outputs": [],
   "source": [
    "x_p = list(range(0,20))\n",
    "y_p = list(map(f,x_p)) #map applies the function to the list"
   ]
  },
  {
   "cell_type": "code",
   "execution_count": 6,
   "metadata": {},
   "outputs": [
    {
     "data": {
      "text/html": [
       "<div>\n",
       "<style scoped>\n",
       "    .dataframe tbody tr th:only-of-type {\n",
       "        vertical-align: middle;\n",
       "    }\n",
       "\n",
       "    .dataframe tbody tr th {\n",
       "        vertical-align: top;\n",
       "    }\n",
       "\n",
       "    .dataframe thead th {\n",
       "        text-align: right;\n",
       "    }\n",
       "</style>\n",
       "<table border=\"1\" class=\"dataframe\">\n",
       "  <thead>\n",
       "    <tr style=\"text-align: right;\">\n",
       "      <th></th>\n",
       "      <th>x_p</th>\n",
       "      <th>y_p</th>\n",
       "    </tr>\n",
       "  </thead>\n",
       "  <tbody>\n",
       "    <tr>\n",
       "      <th>0</th>\n",
       "      <td>0</td>\n",
       "      <td>0.000000</td>\n",
       "    </tr>\n",
       "    <tr>\n",
       "      <th>1</th>\n",
       "      <td>1</td>\n",
       "      <td>1000.000000</td>\n",
       "    </tr>\n",
       "    <tr>\n",
       "      <th>2</th>\n",
       "      <td>2</td>\n",
       "      <td>1414.213562</td>\n",
       "    </tr>\n",
       "    <tr>\n",
       "      <th>3</th>\n",
       "      <td>3</td>\n",
       "      <td>1732.050808</td>\n",
       "    </tr>\n",
       "    <tr>\n",
       "      <th>4</th>\n",
       "      <td>4</td>\n",
       "      <td>2000.000000</td>\n",
       "    </tr>\n",
       "  </tbody>\n",
       "</table>\n",
       "</div>"
      ],
      "text/plain": [
       "   x_p          y_p\n",
       "0    0     0.000000\n",
       "1    1  1000.000000\n",
       "2    2  1414.213562\n",
       "3    3  1732.050808\n",
       "4    4  2000.000000"
      ]
     },
     "execution_count": 6,
     "metadata": {},
     "output_type": "execute_result"
    }
   ],
   "source": [
    "data_p = pd.DataFrame({'x_p':x_p,'y_p':y_p})\n",
    "data_p.head()"
   ]
  },
  {
   "cell_type": "code",
   "execution_count": 7,
   "metadata": {},
   "outputs": [
    {
     "data": {
      "text/plain": [
       "array([  57.53786174, -126.18314602,  -33.62262334,   55.15875375,\n",
       "       -322.18312739,  322.1518211 ,  437.07277365,  -23.82955395,\n",
       "         53.82289058, -158.08571724,   -1.81826958,   30.68437684,\n",
       "        385.42509861,  -59.02193926,    0.62222839, -166.80737759,\n",
       "        -36.71971952,  215.36016371, -323.33838693,  117.21553054])"
      ]
     },
     "execution_count": 7,
     "metadata": {},
     "output_type": "execute_result"
    }
   ],
   "source": [
    "error = np.random.normal(0,200,len(data_p))\n",
    "error"
   ]
  },
  {
   "cell_type": "code",
   "execution_count": 8,
   "metadata": {},
   "outputs": [
    {
     "data": {
      "image/png": "[encoded data removed]",
      "text/plain": [
       "<Figure size 432x288 with 1 Axes>"
      ]
     },
     "metadata": {
      "needs_background": "light"
     },
     "output_type": "display_data"
    }
   ],
   "source": [
    "data_p['y']=data_p['y_p']+error\n",
    "\n",
    "ax = sns.scatterplot(x=\"x_p\", y=\"y_p\", data=data_p).set_title('f(x)')"
   ]
  },
  {
   "cell_type": "code",
   "execution_count": 9,
   "metadata": {},
   "outputs": [
    {
     "data": {
      "image/png": "[encoded data removed]",
      "text/plain": [
       "<Figure size 432x288 with 1 Axes>"
      ]
     },
     "metadata": {
      "needs_background": "light"
     },
     "output_type": "display_data"
    }
   ],
   "source": [
    "ax = sns.scatterplot(x=\"x_p\", y=\"y\", data=data_p).set_title('f(x)+e')"
   ]
  },
  {
   "cell_type": "markdown",
   "metadata": {},
   "source": [
    "In machine learning problems we never know that function $f(x)$, despite we can know some of its properties (for example that it is continuous, has small variations...). What we have is data that could have been different for an other group of people."
   ]
  },
  {
   "cell_type": "code",
   "execution_count": 10,
   "metadata": {},
   "outputs": [
    {
     "data": {
      "text/plain": [
       "array([ 258.88827981,   72.30489199,   35.63884294,  148.91744987,\n",
       "        -89.84539165,   13.39011189,  -38.08513907,  -11.27991577,\n",
       "       -234.04734134,   74.92889855, -121.23867501,  208.66442248,\n",
       "         53.09152024, -149.80287798, -451.72744305,  -31.87998028,\n",
       "        -88.43596232,  -65.896876  ,  365.81459542,  232.6579836 ])"
      ]
     },
     "execution_count": 10,
     "metadata": {},
     "output_type": "execute_result"
    }
   ],
   "source": [
    "error2 = np.random.normal(0,200,len(data_p))\n",
    "error2"
   ]
  },
  {
   "cell_type": "code",
   "execution_count": 11,
   "metadata": {},
   "outputs": [
    {
     "data": {
      "image/png": "[encoded data removed]",
      "text/plain": [
       "<Figure size 432x288 with 1 Axes>"
      ]
     },
     "metadata": {
      "needs_background": "light"
     },
     "output_type": "display_data"
    }
   ],
   "source": [
    "data_p['y2']=data_p['y_p']+error2\n",
    "\n",
    "ax = sns.scatterplot(x=\"x_p\", y=\"y2\", data=data_p).set_title('f(x)+e')"
   ]
  },
  {
   "cell_type": "markdown",
   "metadata": {},
   "source": [
    "## Conclusion 1\n",
    "\n",
    "Under the model we just described $Y=f(X)+\\epsilon$, **learning from data** means trying to obtain or estimate the shape of the function $f$ that we don't know. $f$ represents the sistematic relation between $Y$ and $X$."
   ]
  },
  {
   "cell_type": "markdown",
   "metadata": {},
   "source": [
    "\n",
    "How well can we estimate that $f$ that we don't know, with the available data? What does it mean to estimate well? Even this simple example shows the difficulties we are going to face, and the importance of carefully determining how much information we have, and how good our predictions can be."
   ]
  },
  {
   "cell_type": "markdown",
   "metadata": {},
   "source": [
    "## Predictions"
   ]
  },
  {
   "cell_type": "markdown",
   "metadata": {},
   "source": [
    "So, the ultimate goal is to produce an estimation of $f$ that can help us make some predictions."
   ]
  },
  {
   "cell_type": "markdown",
   "metadata": {},
   "source": [
    "If we define $\\hat{f}$ an estimation of $f$ built from the data, we can make predictions applying $\\hat{f}$ to values of $X$. So we define the prediction of $Y$ as $\\hat{Y}$, and $$\\hat{Y}=\\hat{f}(X)$$ \n",
    "\n",
    "The residual error from the prediction is given by the difference of the observed value and the prediction: $$Y-\\hat{Y}$$\n",
    "\n",
    "We could make a linear regression with the data from the previous example to exemplify this:"
   ]
  },
  {
   "cell_type": "code",
   "execution_count": 12,
   "metadata": {},
   "outputs": [],
   "source": [
    "from sklearn import linear_model"
   ]
  },
  {
   "cell_type": "code",
   "execution_count": 13,
   "metadata": {},
   "outputs": [],
   "source": [
    "regr = linear_model.LinearRegression()\n",
    "\n",
    "x = pd.DataFrame(data_p.x_p)\n",
    "y = pd.DataFrame(data_p.y)\n",
    "\n",
    "regr.fit(x,y)\n",
    "\n",
    "y_pred = regr.predict(x)\n"
   ]
  },
  {
   "cell_type": "code",
   "execution_count": 14,
   "metadata": {},
   "outputs": [
    {
     "data": {
      "image/png": "[encoded data removed]",
      "text/plain": [
       "<Figure size 1152x432 with 1 Axes>"
      ]
     },
     "metadata": {
      "needs_background": "light"
     },
     "output_type": "display_data"
    }
   ],
   "source": [
    "plt.figure(figsize=(16,6))\n",
    "plt.scatter(x,y,  color='black')\n",
    "plt.plot(x,y_pred, color='blue', linewidth=3)\n",
    "\n",
    "plt.xlabel(xlabel='X')\n",
    "plt.ylabel(ylabel='Y')\n",
    "plt.title(label='Linear Regression')\n",
    "plt.show()"
   ]
  },
  {
   "cell_type": "markdown",
   "metadata": {},
   "source": [
    "In this case $\\hat{f}$ is a line, and we can use it to make predictions. For example, if we have an observation with $x_{0}=8$ years of study, our income prediction $\\hat{y}=\\hat{f}(8)$ would be:"
   ]
  },
  {
   "cell_type": "code",
   "execution_count": 96,
   "metadata": {},
   "outputs": [
    {
     "data": {
      "text/plain": [
       "2345.913932960588"
      ]
     },
     "execution_count": 96,
     "metadata": {},
     "output_type": "execute_result"
    }
   ],
   "source": [
    "pred1 = float(regr.predict([[8]]))\n",
    "pred1"
   ]
  },
  {
   "cell_type": "markdown",
   "metadata": {},
   "source": [
    "If we compare this prediction with the real observation at $x_{0}=8$, the real income would be $y_{0}=2676.5$"
   ]
  },
  {
   "cell_type": "code",
   "execution_count": 97,
   "metadata": {},
   "outputs": [
    {
     "data": {
      "text/plain": [
       "2676.504971667631"
      ]
     },
     "execution_count": 97,
     "metadata": {},
     "output_type": "execute_result"
    }
   ],
   "source": [
    "real1 = float(data_p.loc[data_p['x_p']==8]['y'])\n",
    "real1"
   ]
  },
  {
   "cell_type": "markdown",
   "metadata": {},
   "source": [
    "This means the error would be of:"
   ]
  },
  {
   "cell_type": "code",
   "execution_count": 98,
   "metadata": {},
   "outputs": [
    {
     "data": {
      "text/plain": [
       "330.59103870704257"
      ]
     },
     "execution_count": 98,
     "metadata": {},
     "output_type": "execute_result"
    }
   ],
   "source": [
    "real1 - pred1"
   ]
  },
  {
   "cell_type": "markdown",
   "metadata": {},
   "source": [
    "Learning looks for **reducing this errors to zero**"
   ]
  },
  {
   "cell_type": "markdown",
   "metadata": {},
   "source": [
    "## The Supervised Learning Task"
   ]
  },
  {
   "cell_type": "markdown",
   "metadata": {},
   "source": [
    "The missing element to define the supervised learning task is to quantify what it means to approximate well\n",
    "$f$, or have accurate predictions. For this we define a **loss function**: $$L(Y,\\hat{f}(X))$$\n",
    "\n",
    "that tells how much it costs to make the prediction $\\hat{f}$ when the real value is $Y$ and the input values are $X$. A convenient option for regression models is the **quadratic loss**: $$L(Y,\\hat{f}(X))=(Y-\\hat{f}(X))^{2}$$\n",
    "This is a random number, in a way that in some cases the error can be bigger or smaller. Usually we look for an $\\hat{f}$, in a way that the average error decreases: $$Err = E(Y-\\hat{f}(X))^{2}$$"
   ]
  },
  {
   "cell_type": "markdown",
   "metadata": {},
   "source": [
    "### Notes\n",
    "\n",
    "* This expected value is about the population for which we want to make predictions. It is a theoretical amount, we cannot calculate it with any data set.\n",
    "* Under mean square error and assuming the additive model $Y = f(x)+\\epsilon$,the best predictor of $Y$ is $f(x) = E[Y|X=x]$. In other words: we want to approximate as better as possible the conditional expected value."
   ]
  },
  {
   "cell_type": "markdown",
   "metadata": {},
   "source": [
    "Now we have all the elements to precisely define supervised learning.\n",
    "\n",
    "Let's consider a data generaating process $(X,Y)$.\n",
    "\n",
    "In the first place, we have Data from which we are going to learn. Suppose we  have a labeled data set (generated through $(X,Y)$) $$\\ell = \\{(x^{(1)},y^{(1)}),(x^{(2)},y^{(2)}),...,(x^{(n)},y^{(n)})\\}$$\n",
    "that we call **training set**. Note that we use lowercase letters to describe particular observations of $(X,Y)$.\n",
    "\n",
    "A **learning algorithm** (learning from data) is a rule that gives a function $\\hat{f}$ to every training set $\\ell$: $$\\ell \\to \\hat{f}$$\n",
    "\n",
    "Once we've created the function $\\hat{f}$, we can make some predictions. The performance of the particular predictor $\\hat{f}$ will be measured as follows: if in the future we observe another sample $\\Im$, that we call **test set**, $$\\Im = \\{(x_{0}^{(1)},y_{0}^{(1)}),(x_{0}^{(2)},y_{0}^{(2)}),...,(x_{0}^{(n)},y_{0}^{(n)})\\}$$\n",
    "\n",
    "then we can say that the **predicting error** (quadratic) of $\\hat{f}$ for the example $(x_{0}^{(j)},y_{0}^{(j)})$ is given by: $$(y_{0}^{(j)}-\\hat{f}(x_{0}^{(j)}))^{2}$$\n",
    "\n",
    "and the average error of the sample $\\Im$ is: $$\\hat{Err}=\\frac{1}{m}\\Sigma_{j=1}^{m}(y_{0}^{(j)}-\\hat{f}(x_{0}^{(j)}))^{2}$$\n",
    "\n",
    "\n",
    "which is an estimation of the prediction error $$Err = E(Y-\\hat{f}(X))^{2}$$\n",
    "\n",
    "Aditionally we define another quantity of less interest, the **training error**, as:\n",
    "\n",
    "$$\\hat{err}=\\frac{1}{N}\\Sigma_{i=1}^{N}(y_{0}^{(i)}-\\hat{f}(x_{0}^{(i)}))^{2}$$"
   ]
  },
  {
   "cell_type": "markdown",
   "metadata": {},
   "source": [
    "The most important pint we are about to discuss is:\n",
    "\n",
    "* Note that the training error is calculated upon the sample $\\ell$ that we used to build $\\hat{f}$, while the test error was calculated using the independent sample $\\Im$.\n",
    "* $\\hat{Err}$ is a reasonable estimation of the prediction error $Err$ (for example, $\\hat{Err} \\to Err$ when the size of the test set increases), but $\\hat{err}$ is ofently a bad estimation of the prediction error"
   ]
  },
  {
   "cell_type": "markdown",
   "metadata": {},
   "source": [
    "### For Example"
   ]
  },
  {
   "cell_type": "markdown",
   "metadata": {},
   "source": [
    "What curve will you prefer to predict monthly incomes based on years of education? "
   ]
  },
  {
   "cell_type": "code",
   "execution_count": 15,
   "metadata": {},
   "outputs": [
    {
     "name": "stderr",
     "output_type": "stream",
     "text": [
      "/usr/local/lib/python3.6/dist-packages/ipykernel_launcher.py:8: RankWarning: Polyfit may be poorly conditioned\n",
      "  \n"
     ]
    }
   ],
   "source": [
    "yp = data_p.y_p\n",
    "xp = data_p.y_p\n",
    "\n",
    "z = np.polyfit(xp, y, 3)\n",
    "\n",
    "y_poli5 = np.polyval(z,xp)\n",
    "\n",
    "z2 = np.polyfit(xp, y, 20)\n",
    "\n",
    "y_pol15 = np.polyval(z2,xp)\n"
   ]
  },
  {
   "cell_type": "code",
   "execution_count": 16,
   "metadata": {},
   "outputs": [
    {
     "data": {
      "image/png": "[encoded data removed]",
      "text/plain": [
       "<Figure size 1152x432 with 1 Axes>"
      ]
     },
     "metadata": {
      "needs_background": "light"
     },
     "output_type": "display_data"
    }
   ],
   "source": [
    "plt.figure(figsize=(16,6))\n",
    "plt.scatter(x,y,  color='black')\n",
    "plt.plot(x,y_pred, color='blue', linewidth=3)\n",
    "plt.plot(x,y_poli5, color='red', linewidth=3)\n",
    "plt.plot(x,y_pol15, color='green', linewidth=3)\n",
    "\n",
    "plt.xlabel(xlabel='X')\n",
    "plt.ylabel(ylabel='Y')\n",
    "plt.title(label='Regression Models')\n",
    "plt.show()"
   ]
  },
  {
   "cell_type": "code",
   "execution_count": 17,
   "metadata": {},
   "outputs": [],
   "source": [
    "data_p['y_poli2']=y_poli5\n",
    "data_p['y_poli20']=y_pol15\n",
    "data_p['y_lin']=y_pred"
   ]
  },
  {
   "cell_type": "markdown",
   "metadata": {},
   "source": [
    "### Training Error"
   ]
  },
  {
   "cell_type": "markdown",
   "metadata": {},
   "source": [
    "**Blue**"
   ]
  },
  {
   "cell_type": "code",
   "execution_count": 18,
   "metadata": {},
   "outputs": [],
   "source": [
    "def mse(y,y_pred):\n",
    "    err = np.array((y-y_pred)**2)\n",
    "    err = float(sum(err)/len(err))**(1/2)\n",
    "    print(err)"
   ]
  },
  {
   "cell_type": "code",
   "execution_count": 19,
   "metadata": {},
   "outputs": [
    {
     "name": "stdout",
     "output_type": "stream",
     "text": [
      "527.100329476419\n"
     ]
    }
   ],
   "source": [
    "mse(data_p.y,data_p.y_lin)"
   ]
  },
  {
   "cell_type": "markdown",
   "metadata": {},
   "source": [
    "**Red**"
   ]
  },
  {
   "cell_type": "code",
   "execution_count": 20,
   "metadata": {},
   "outputs": [
    {
     "name": "stdout",
     "output_type": "stream",
     "text": [
      "189.3529489486198\n"
     ]
    }
   ],
   "source": [
    "mse(data_p.y,data_p.y_poli2)"
   ]
  },
  {
   "cell_type": "markdown",
   "metadata": {},
   "source": [
    "**Green**"
   ]
  },
  {
   "cell_type": "code",
   "execution_count": 21,
   "metadata": {},
   "outputs": [
    {
     "name": "stdout",
     "output_type": "stream",
     "text": [
      "131.1888031218264\n"
     ]
    }
   ],
   "source": [
    "mse(data_p.y,data_p.y_poli20)"
   ]
  },
  {
   "cell_type": "markdown",
   "metadata": {},
   "source": [
    "We can see that the training error is lower for the green curve.\n",
    "\n",
    "Let's see what happens if we have another sample (test set)"
   ]
  },
  {
   "cell_type": "code",
   "execution_count": 22,
   "metadata": {},
   "outputs": [
    {
     "data": {
      "image/png": "[encoded data removed]",
      "text/plain": [
       "<Figure size 1152x432 with 1 Axes>"
      ]
     },
     "metadata": {
      "needs_background": "light"
     },
     "output_type": "display_data"
    }
   ],
   "source": [
    "plt.figure(figsize=(16,6))\n",
    "plt.scatter(x,data_p.y2,  color='black')\n",
    "plt.plot(x,y_pred, color='blue', linewidth=3)\n",
    "plt.plot(x,y_poli5, color='red', linewidth=3)\n",
    "plt.plot(x,y_pol15, color='green', linewidth=3)\n",
    "\n",
    "plt.xlabel(xlabel='X')\n",
    "plt.ylabel(ylabel='Y')\n",
    "plt.title(label='Regression Models')\n",
    "plt.show()"
   ]
  },
  {
   "cell_type": "markdown",
   "metadata": {},
   "source": [
    "### Test Errors"
   ]
  },
  {
   "cell_type": "markdown",
   "metadata": {},
   "source": [
    "**Blue**"
   ]
  },
  {
   "cell_type": "code",
   "execution_count": 23,
   "metadata": {},
   "outputs": [
    {
     "name": "stdout",
     "output_type": "stream",
     "text": [
      "412.2189732613206\n"
     ]
    }
   ],
   "source": [
    "mse(data_p.y2,data_p.y_lin)"
   ]
  },
  {
   "cell_type": "markdown",
   "metadata": {},
   "source": [
    "**Red**"
   ]
  },
  {
   "cell_type": "code",
   "execution_count": 24,
   "metadata": {},
   "outputs": [
    {
     "name": "stdout",
     "output_type": "stream",
     "text": [
      "197.97958926202534\n"
     ]
    }
   ],
   "source": [
    "mse(data_p.y2,data_p.y_poli2)"
   ]
  },
  {
   "cell_type": "markdown",
   "metadata": {},
   "source": [
    "**Green**"
   ]
  },
  {
   "cell_type": "code",
   "execution_count": 25,
   "metadata": {},
   "outputs": [
    {
     "name": "stdout",
     "output_type": "stream",
     "text": [
      "234.39426850187414\n"
     ]
    }
   ],
   "source": [
    "mse(data_p.y2,data_p.y_poli20)"
   ]
  },
  {
   "cell_type": "markdown",
   "metadata": {},
   "source": [
    "## Observations \n",
    "\n",
    "* The \"best\" model in training is one that *over-fits* the data, but is not the best with a test sample. The green curve learns from the noise component of the model - which really is not learning.\n",
    "\n",
    "* The straight model is not good in training or testing. This model does not have the ability to learn from the signal in the data.\n",
    "\n",
    "* The best model in the test sample is one that is between the straight and the green curve in terms of flexibility.\n",
    "\n",
    "* Our intuition to choose the red model from the beginning is reflected in that it generalizes better than the others, and that in turn is reflected in a lower test error.\n",
    "\n",
    "* Where do prediction errors come from? Can we make the error equal to zero? If we establish that the error is a growing function of $Y-\\hat{Y}$, we see that $$Y-\\hat{Y}=f(X)+\\epsilon-\\hat{f}(X)=(f(X)-\\hat{f}(X))+\\epsilon$$\n",
    "Where we see that there are two main components that can make big $Y-\\hat{Y}$:\n",
    "\n",
    "    * The difference between $f(X)-\\hat{f}(X)$ is the **reducible error**, because it depends on how well we estimate $f(X)$ with $\\hat{f}(X)$\n",
    "    * The random error $\\epsilon$ which is the **irreducible error**.\n",
    "    \n"
   ]
  },
  {
   "cell_type": "markdown",
   "metadata": {},
   "source": [
    "* Either of these two quantities can make our predictions not accurate. We cannot do much about the irreducible error (without changing the variables we use, the definition of the problem, etc.) In our previous example, the reducible error:\n",
    "\n",
    "    * It is big for the green model, because it responds too loud to noise in the data (it has high variance).\n",
    "    * It is big for the straight line model, since it has no capacity to approach the true curve (it is biased)."
   ]
  },
  {
   "cell_type": "markdown",
   "metadata": {},
   "source": [
    "## Complexity and Rigidity Tradeoff "
   ]
  },
  {
   "cell_type": "markdown",
   "metadata": {},
   "source": [
    "\n",
    "As we saw in the example above, training error is not a good indicator of the future performance of our predictions. To evaluate this performance, we need a test sample independent of the sample we use to learn or train the model."
   ]
  },
  {
   "cell_type": "markdown",
   "metadata": {},
   "source": [
    "Intuitively this makes sense: in the learning process we have tags available (we know the answers), so it can happen that the algorithm memorizes the association of what tags $y^{(i)}$ go with each set of entries  $x^{(i)}$. This  can happen due to the following reasons:\n",
    "\n",
    "* The model *over-fits* the data: this means that by adjusting aspects of the training data too strongly, the algorithm seems to closely replicate the training data but performs poorly in the prediction.\n",
    "\n",
    "* The model learns from *noise*: our learning process captures irrelevant aspects of the data, which new data will not share.\n",
    "\n",
    "* The model has no generalization capacity, because it captures aspects that are only present in our training sample.\n",
    "\n",
    "* The model has high variance, because it changes a lot depending on the training sample.\n",
    "\n",
    "* The model is too complex or flexible and easily adapts to any data set, both signal and noise"
   ]
  },
  {
   "cell_type": "markdown",
   "metadata": {},
   "source": [
    "\n",
    "In the example above, we also saw that some models may have poor performance because they do not have the ability to learn from real and general patterns in the data (the line in the previous example). We can say this in several ways:\n",
    "\n",
    "* The model *under-adjusts* the data: they do not have the capacity to adjust aspects of the training data that are real relationships between the variables.\n",
    "\n",
    "* The model ignores signals in the data: the algorithm does not capture relevant aspects of the data, which they share with new data and can be used to make predictions.\n",
    "\n",
    "* The model has *no learning capacity*, as it cannot capture aspects that are general to the phenomenon of interest.\n",
    "\n",
    "* The model has *high bias*, because it cannot adjust generalizable patterns in the data.\n",
    "\n",
    "* The model is *too rigid*, and cannot even adapt to strong and clear patterns in the data."
   ]
  },
  {
   "cell_type": "markdown",
   "metadata": {},
   "source": [
    "\n",
    "We achieve good predictions when we refine our models or algorithms to learn from the signal and ignore noise, which does not help in prediction, and to reduce the prediction error as much as possible with the available data. This requires finding the right level of complexity in the models or algorithms for the data we have."
   ]
  },
  {
   "cell_type": "markdown",
   "metadata": {},
   "source": [
    "# How to estimate f?"
   ]
  },
  {
   "cell_type": "markdown",
   "metadata": {},
   "source": [
    "Now we show another characteristic aspect of supervised learning. First, the most common general method to find $\\hat{f}$ is the following:\n",
    "\n",
    "   * Consider a family of $h$ functions to approximate $f$\n",
    "   * Calculate the traininng error from every possible function $h$, and we find the $h$ that minimizes the training error (the one that adjusts more to the training data). We take $\\hat{f}=h$.\n",
    "$$\\hat{f}=min_{h}\\frac{1}{N}\\Sigma_{i=1}^{N}(y^{(i)}-h(x^{(i)}))^2$$"
   ]
  },
  {
   "cell_type": "markdown",
   "metadata": {},
   "source": [
    "* Evaluate the test error of the model we selected (we want it to be low):\n",
    "\n",
    "$$\\hat{Err}=\\frac{1}{m}\\Sigma_{j=1}^{m}(y_{0}^{(j)}-\\hat{f}(x_{0}^{(j)}))^{2}$$"
   ]
  },
  {
   "cell_type": "markdown",
   "metadata": {},
   "source": [
    "\n",
    "So the process is a minimization problem. What makes our case interesting is that we really **don't want to minimize training error**. We want to **minimize the test error**. That is, we minimize an amount that really does not interest us (training error) in the hope of minimizing the amount that interests us (prediction error)."
   ]
  },
  {
   "cell_type": "markdown",
   "metadata": {},
   "source": [
    "As expected, this simple scheme does not work very well in general. For the above solution to be reasonable or good, then:"
   ]
  },
  {
   "cell_type": "markdown",
   "metadata": {},
   "source": [
    "* We have to be careful and be able to regulate the choice of the initial family of functions (straight? Very flexible curves? Etc.), and / or\n",
    "* Sometimes we have to modify the objective of the minimization problem so that it forces us to find an adequate balance of complexity and low prediction error. For example, penalize the objective of models that are unbelievable or too complicated.\n",
    "* Disturb the training sample in different ways to prevent an algorithm from learning irrelevant information\n",
    "\n",
    "\n",
    "Most of the workshop will focus on considering what families we can use, what modifications of the objective function can be made, and what disturbances can be considered to improve the predictive performance of our models."
   ]
  },
  {
   "cell_type": "markdown",
   "metadata": {},
   "source": [
    "## References \n",
    "\n",
    "The majority of the theoretical content, if not all, was extracted from Felipe González book.\n",
    "\n",
    "González, Felipe. Machine Learning.[Aprendizaje Supervisado](https://felipegonzalez.github.io/aprendizaje-maquina-mcd-2018/introduccion.html#aprendizaje-supervisado-1)"
   ]
  }
 ],
 "metadata": {
  "kernelspec": {
   "display_name": "Python 3",
   "language": "python",
   "name": "python3"
  },
  "language_info": {
   "codemirror_mode": {
    "name": "ipython",
    "version": 3
   },
   "file_extension": ".py",
   "mimetype": "text/x-python",
   "name": "python",
   "nbconvert_exporter": "python",
   "pygments_lexer": "ipython3",
   "version": "3.6.9"
  }
 },
 "nbformat": 4,
 "nbformat_minor": 2
}
