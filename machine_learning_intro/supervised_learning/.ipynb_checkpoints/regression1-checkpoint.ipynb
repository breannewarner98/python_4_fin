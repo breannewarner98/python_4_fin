{
 "cells": [
  {
   "cell_type": "markdown",
   "metadata": {},
   "source": [
    "# Regression"
   ]
  },
  {
   "cell_type": "markdown",
   "metadata": {},
   "source": [
    "## Linear Regression"
   ]
  },
  {
   "cell_type": "markdown",
   "metadata": {},
   "source": [
    "<img src=\"media/linear.jpg\" width=\"600\">"
   ]
  },
  {
   "cell_type": "markdown",
   "metadata": {},
   "source": [
    "## Definifion\n",
    "\n",
    "We consider a regression problem with entries $X=(X_{1},X_{2},...,X_{p})$ and responde $Y$. One of the simplest ways to predict $Y$ as a function of the $X_{j}$'s is through a weighted sum of the values of $X_{j}$'s using a function with the form: $$f_{\\beta}(X)=\\beta_{1}X_{1}+\\beta_{2}X_{2}+...+\\beta_{p}X_{p}$$\n",
    "\n",
    "We want to find apropriate values for the $\\beta$'s given a train sample $\\ell$ $$\\hat{f_{\\beta}}(X)=\\beta_{1} X_{1}+\\beta_{2}X_{2}+...+\\beta_{p}X_{p}$$\n",
    "\n",
    "And we'll use that function $\\hat{f}$ to meke predictions"
   ]
  },
  {
   "cell_type": "markdown",
   "metadata": {},
   "source": [
    "## Example \n",
    "\n",
    "Let's use our Google Store Data\n",
    "Remember to [download the Dataset](https://www.dropbox.com/sh/fhk309b9f1c5568/AACQOyCYzQT3DxFZCieDW_ida?dl=0) **'apps_clean.csv'** which is the information we already cleaned and analyzed."
   ]
  },
  {
   "cell_type": "markdown",
   "metadata": {},
   "source": [
    "## Coefficient Learning (adjusting)\n",
    "\n",
    "We would like to build an algorithm that learns the coefficients of the model from a training sample: \n",
    "$$ \\ell = \\{(x^{(1)},y^{(1)}),(x^{(2)},y^{(2)}),...,(x^{(n)},y^{(n)})\\}$$\n",
    "\n",
    "The most used learning algorithm for linear regression is **Least Squares**:\n",
    "\n",
    "We build the predictions for our training sample:\n",
    "\n",
    "$$\\hat{y}^{(i)}=f_{\\beta}(x^{(i)})=\\beta_{0}+\\beta_{1}x_{1}^{(i)}+...+\\beta_{p}x_{p}^{(i)}$$\n",
    "\n",
    "And we consider the difference between the predicted values and the observed ones:\n",
    "\n",
    "$$\\epsilon^{(i)}=y^{(i)}-f_{\\beta}(x^{(i)})$$\n",
    "\n",
    "Then, the idea is to minimize the sum of the square of the residuals, trying to make the adjusted function pass as close to the training points as possible. We want to solve for:\n",
    "\n",
    "$$min_{\\beta} RSS(\\beta) = min_{\\beta}\\Sigma_{i=1}^{N}(y^{(i)}-f_{\\beta}(x^{(i)}))^{2}$$"
   ]
  },
  {
   "cell_type": "markdown",
   "metadata": {},
   "source": [
    "Hipotesis de nuestro modelo lineal:\n",
    "$$h_\\theta(x) = \\theta^{T}x = \\theta_0 + \\theta_1x_1$$\n",
    "\n",
    "Buscamos $\\theta_j$ para minimizar $J(\\theta)$.  Cada iteracion calcula la actualizacion de parametros pro medio de la siguiente expresion:\n",
    "$$\\theta_j := \\theta_j - \\alpha\\frac{1}{m}\\sum_{i=1}^m (h_\\theta(x^{(i)})-y^{(i)})x_{j}^{(i)}$$"
   ]
  },
  {
   "cell_type": "code",
   "execution_count": 1,
   "metadata": {},
   "outputs": [],
   "source": [
    "import os"
   ]
  },
  {
   "cell_type": "code",
   "execution_count": 2,
   "metadata": {},
   "outputs": [
    {
     "data": {
      "text/plain": [
       "'/home/franciscoar/git/python_4_fin/machine_learning_intro/supervised_learning'"
      ]
     },
     "execution_count": 2,
     "metadata": {},
     "output_type": "execute_result"
    }
   ],
   "source": [
    "os.getcwd()"
   ]
  },
  {
   "cell_type": "code",
   "execution_count": 3,
   "metadata": {},
   "outputs": [],
   "source": [
    "os.chdir('/home/franciscoar/Documents')"
   ]
  },
  {
   "cell_type": "code",
   "execution_count": null,
   "metadata": {},
   "outputs": [],
   "source": []
  },
  {
   "cell_type": "markdown",
   "metadata": {},
   "source": [
    "## One-Hot Encoding"
   ]
  }
 ],
 "metadata": {
  "kernelspec": {
   "display_name": "Python 3",
   "language": "python",
   "name": "python3"
  },
  "language_info": {
   "codemirror_mode": {
    "name": "ipython",
    "version": 3
   },
   "file_extension": ".py",
   "mimetype": "text/x-python",
   "name": "python",
   "nbconvert_exporter": "python",
   "pygments_lexer": "ipython3",
   "version": "3.6.9"
  }
 },
 "nbformat": 4,
 "nbformat_minor": 2
}
